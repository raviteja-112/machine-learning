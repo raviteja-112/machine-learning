{
 "cells": [
  {
   "cell_type": "code",
   "execution_count": 1,
   "id": "fda16d04",
   "metadata": {
    "_cell_guid": "b1076dfc-b9ad-4769-8c92-a6c4dae69d19",
    "_uuid": "8f2839f25d086af736a60e9eeb907d3b93b6e0e5",
    "execution": {
     "iopub.execute_input": "2025-06-05T16:57:26.587191Z",
     "iopub.status.busy": "2025-06-05T16:57:26.586827Z",
     "iopub.status.idle": "2025-06-05T16:57:28.518167Z",
     "shell.execute_reply": "2025-06-05T16:57:28.517185Z"
    },
    "papermill": {
     "duration": 1.938775,
     "end_time": "2025-06-05T16:57:28.520069",
     "exception": false,
     "start_time": "2025-06-05T16:57:26.581294",
     "status": "completed"
    },
    "tags": []
   },
   "outputs": [],
   "source": [
    "# This Python 3 environment comes with many helpful analytics libraries installed\n",
    "# It is defined by the kaggle/python Docker image: https://github.com/kaggle/docker-python\n",
    "# For example, here's several helpful packages to load\n",
    "\n",
    "import numpy as np # linear algebra\n",
    "import pandas as pd # data processing, CSV file I/O (e.g. pd.read_csv)\n",
    "\n",
    "# Input data files are available in the read-only \"../input/\" directory\n",
    "# For example, running this (by clicking run or pressing Shift+Enter) will list all files under the input directory\n",
    "\n",
    "import os\n",
    "for dirname, _, filenames in os.walk('/kaggle/input'):\n",
    "    for filename in filenames:\n",
    "        print(os.path.join(dirname, filename))\n",
    "\n",
    "# You can write up to 20GB to the current directory (/kaggle/working/) that gets preserved as output when you create a version using \"Save & Run All\" \n",
    "# You can also write temporary files to /kaggle/temp/, but they won't be saved outside of the current session"
   ]
  },
  {
   "cell_type": "code",
   "execution_count": 2,
   "id": "f0df1e84",
   "metadata": {
    "execution": {
     "iopub.execute_input": "2025-06-05T16:57:28.528684Z",
     "iopub.status.busy": "2025-06-05T16:57:28.528183Z",
     "iopub.status.idle": "2025-06-05T16:57:28.534169Z",
     "shell.execute_reply": "2025-06-05T16:57:28.533183Z"
    },
    "papermill": {
     "duration": 0.011506,
     "end_time": "2025-06-05T16:57:28.535537",
     "exception": false,
     "start_time": "2025-06-05T16:57:28.524031",
     "status": "completed"
    },
    "tags": []
   },
   "outputs": [],
   "source": [
    "import matplotlib.pyplot as plt\n",
    "%matplotlib inline"
   ]
  },
  {
   "cell_type": "code",
   "execution_count": 3,
   "id": "0b156e29",
   "metadata": {
    "execution": {
     "iopub.execute_input": "2025-06-05T16:57:28.542918Z",
     "iopub.status.busy": "2025-06-05T16:57:28.542605Z",
     "iopub.status.idle": "2025-06-05T16:57:28.799645Z",
     "shell.execute_reply": "2025-06-05T16:57:28.798580Z"
    },
    "papermill": {
     "duration": 0.263042,
     "end_time": "2025-06-05T16:57:28.801646",
     "exception": false,
     "start_time": "2025-06-05T16:57:28.538604",
     "status": "completed"
    },
    "tags": []
   },
   "outputs": [
    {
     "data": {
      "text/html": [
       "<div>\n",
       "<style scoped>\n",
       "    .dataframe tbody tr th:only-of-type {\n",
       "        vertical-align: middle;\n",
       "    }\n",
       "\n",
       "    .dataframe tbody tr th {\n",
       "        vertical-align: top;\n",
       "    }\n",
       "\n",
       "    .dataframe thead th {\n",
       "        text-align: right;\n",
       "    }\n",
       "</style>\n",
       "<table border=\"1\" class=\"dataframe\">\n",
       "  <thead>\n",
       "    <tr style=\"text-align: right;\">\n",
       "      <th></th>\n",
       "      <th>Make</th>\n",
       "      <th>Colour</th>\n",
       "      <th>Odometer (KM)</th>\n",
       "      <th>Doors</th>\n",
       "      <th>Price</th>\n",
       "    </tr>\n",
       "  </thead>\n",
       "  <tbody>\n",
       "    <tr>\n",
       "      <th>0</th>\n",
       "      <td>Honda</td>\n",
       "      <td>White</td>\n",
       "      <td>35431.0</td>\n",
       "      <td>4.0</td>\n",
       "      <td>15323.0</td>\n",
       "    </tr>\n",
       "    <tr>\n",
       "      <th>1</th>\n",
       "      <td>BMW</td>\n",
       "      <td>Blue</td>\n",
       "      <td>192714.0</td>\n",
       "      <td>5.0</td>\n",
       "      <td>19943.0</td>\n",
       "    </tr>\n",
       "    <tr>\n",
       "      <th>2</th>\n",
       "      <td>Honda</td>\n",
       "      <td>White</td>\n",
       "      <td>84714.0</td>\n",
       "      <td>4.0</td>\n",
       "      <td>28343.0</td>\n",
       "    </tr>\n",
       "    <tr>\n",
       "      <th>3</th>\n",
       "      <td>Toyota</td>\n",
       "      <td>White</td>\n",
       "      <td>154365.0</td>\n",
       "      <td>4.0</td>\n",
       "      <td>13434.0</td>\n",
       "    </tr>\n",
       "    <tr>\n",
       "      <th>4</th>\n",
       "      <td>Nissan</td>\n",
       "      <td>Blue</td>\n",
       "      <td>181577.0</td>\n",
       "      <td>3.0</td>\n",
       "      <td>14043.0</td>\n",
       "    </tr>\n",
       "  </tbody>\n",
       "</table>\n",
       "</div>"
      ],
      "text/plain": [
       "     Make Colour  Odometer (KM)  Doors    Price\n",
       "0   Honda  White        35431.0    4.0  15323.0\n",
       "1     BMW   Blue       192714.0    5.0  19943.0\n",
       "2   Honda  White        84714.0    4.0  28343.0\n",
       "3  Toyota  White       154365.0    4.0  13434.0\n",
       "4  Nissan   Blue       181577.0    3.0  14043.0"
      ]
     },
     "execution_count": 3,
     "metadata": {},
     "output_type": "execute_result"
    }
   ],
   "source": [
    "car_sales_missing = pd.read_csv(\"https://raw.githubusercontent.com/mrdbourke/zero-to-mastery-ml/master/data/car-sales-extended-missing-data.csv\")\n",
    "car_sales_missing.head()"
   ]
  },
  {
   "cell_type": "code",
   "execution_count": 4,
   "id": "b9b0f7b9",
   "metadata": {
    "execution": {
     "iopub.execute_input": "2025-06-05T16:57:28.809870Z",
     "iopub.status.busy": "2025-06-05T16:57:28.809511Z",
     "iopub.status.idle": "2025-06-05T16:57:28.819939Z",
     "shell.execute_reply": "2025-06-05T16:57:28.818808Z"
    },
    "papermill": {
     "duration": 0.016648,
     "end_time": "2025-06-05T16:57:28.821793",
     "exception": false,
     "start_time": "2025-06-05T16:57:28.805145",
     "status": "completed"
    },
    "tags": []
   },
   "outputs": [
    {
     "data": {
      "text/plain": [
       "Make             49\n",
       "Colour           50\n",
       "Odometer (KM)    50\n",
       "Doors            50\n",
       "Price            50\n",
       "dtype: int64"
      ]
     },
     "execution_count": 4,
     "metadata": {},
     "output_type": "execute_result"
    }
   ],
   "source": [
    "# Check missing values\n",
    "car_sales_missing.isna().sum()"
   ]
  },
  {
   "cell_type": "code",
   "execution_count": 5,
   "id": "913d97c7",
   "metadata": {
    "execution": {
     "iopub.execute_input": "2025-06-05T16:57:28.830512Z",
     "iopub.status.busy": "2025-06-05T16:57:28.830110Z",
     "iopub.status.idle": "2025-06-05T16:57:28.854674Z",
     "shell.execute_reply": "2025-06-05T16:57:28.853483Z"
    },
    "papermill": {
     "duration": 0.03075,
     "end_time": "2025-06-05T16:57:28.856381",
     "exception": false,
     "start_time": "2025-06-05T16:57:28.825631",
     "status": "completed"
    },
    "tags": []
   },
   "outputs": [
    {
     "data": {
      "text/plain": [
       "Make             47\n",
       "Colour           46\n",
       "Odometer (KM)    48\n",
       "Doors            47\n",
       "Price             0\n",
       "dtype: int64"
      ]
     },
     "execution_count": 5,
     "metadata": {},
     "output_type": "execute_result"
    }
   ],
   "source": [
    "# Drop the rows with no labels\n",
    "car_sales_missing.dropna(subset=[\"Price\"], inplace=True)\n",
    "car_sales_missing.isna().sum()"
   ]
  },
  {
   "cell_type": "code",
   "execution_count": 6,
   "id": "bd115075",
   "metadata": {
    "execution": {
     "iopub.execute_input": "2025-06-05T16:57:28.866088Z",
     "iopub.status.busy": "2025-06-05T16:57:28.865737Z",
     "iopub.status.idle": "2025-06-05T16:57:30.564732Z",
     "shell.execute_reply": "2025-06-05T16:57:30.563813Z"
    },
    "papermill": {
     "duration": 1.705367,
     "end_time": "2025-06-05T16:57:30.566717",
     "exception": false,
     "start_time": "2025-06-05T16:57:28.861350",
     "status": "completed"
    },
    "tags": []
   },
   "outputs": [],
   "source": [
    "from sklearn.model_selection import train_test_split\n",
    "\n",
    "# Split into X & y\n",
    "X = car_sales_missing.drop(\"Price\", axis=1)\n",
    "y = car_sales_missing[\"Price\"]\n",
    "\n",
    "# Split data into train and test\n",
    "np.random.seed(42)\n",
    "X_train, X_test, y_train, y_test = train_test_split(X,\n",
    "                                                    y,\n",
    "                                                    test_size=0.2)"
   ]
  },
  {
   "cell_type": "code",
   "execution_count": 7,
   "id": "9e0ce2bd",
   "metadata": {
    "execution": {
     "iopub.execute_input": "2025-06-05T16:57:30.577532Z",
     "iopub.status.busy": "2025-06-05T16:57:30.576962Z",
     "iopub.status.idle": "2025-06-05T16:57:30.586699Z",
     "shell.execute_reply": "2025-06-05T16:57:30.585545Z"
    },
    "papermill": {
     "duration": 0.016755,
     "end_time": "2025-06-05T16:57:30.588383",
     "exception": false,
     "start_time": "2025-06-05T16:57:30.571628",
     "status": "completed"
    },
    "tags": []
   },
   "outputs": [
    {
     "data": {
      "text/plain": [
       "Make             47\n",
       "Colour           46\n",
       "Odometer (KM)    48\n",
       "Doors            47\n",
       "dtype: int64"
      ]
     },
     "execution_count": 7,
     "metadata": {},
     "output_type": "execute_result"
    }
   ],
   "source": [
    "X.isna().sum()"
   ]
  },
  {
   "cell_type": "code",
   "execution_count": 8,
   "id": "f16efec0",
   "metadata": {
    "execution": {
     "iopub.execute_input": "2025-06-05T16:57:30.597383Z",
     "iopub.status.busy": "2025-06-05T16:57:30.597031Z",
     "iopub.status.idle": "2025-06-05T16:57:30.882809Z",
     "shell.execute_reply": "2025-06-05T16:57:30.881877Z"
    },
    "papermill": {
     "duration": 0.292184,
     "end_time": "2025-06-05T16:57:30.884593",
     "exception": false,
     "start_time": "2025-06-05T16:57:30.592409",
     "status": "completed"
    },
    "tags": []
   },
   "outputs": [
    {
     "data": {
      "text/plain": [
       "array([['Honda', 'White', 4.0, 71934.0],\n",
       "       ['Toyota', 'Red', 4.0, 162665.0],\n",
       "       ['Honda', 'White', 4.0, 42844.0],\n",
       "       ...,\n",
       "       ['Toyota', 'White', 4.0, 196225.0],\n",
       "       ['Honda', 'Blue', 4.0, 133117.0],\n",
       "       ['Honda', 'missing', 4.0, 150582.0]], dtype=object)"
      ]
     },
     "execution_count": 8,
     "metadata": {},
     "output_type": "execute_result"
    }
   ],
   "source": [
    "# Fill missing values with Scikit-Learn\n",
    "from sklearn.impute import SimpleImputer\n",
    "from sklearn.compose import ColumnTransformer\n",
    "\n",
    "# Fill categorical values with 'missing' & numerical values with mean\n",
    "cat_imputer = SimpleImputer(strategy=\"constant\", fill_value=\"missing\")\n",
    "door_imputer = SimpleImputer(strategy=\"constant\", fill_value=4)\n",
    "num_imputer = SimpleImputer(strategy=\"mean\")\n",
    "\n",
    "# Define columns\n",
    "cat_features = [\"Make\", \"Colour\"]\n",
    "door_feature = [\"Doors\"]\n",
    "num_features = [\"Odometer (KM)\"]\n",
    "\n",
    "# Create an imputer (something that fills missing data)\n",
    "imputer = ColumnTransformer([\n",
    "    (\"cat_imputer\", cat_imputer, cat_features),\n",
    "    (\"door_imputer\", door_imputer, door_feature),\n",
    "    (\"num_imputer\", num_imputer, num_features)\n",
    "])\n",
    "\n",
    "# Fill train and test values separately\n",
    "filled_X_train = imputer.fit_transform(X_train) # fit_transform imputes the missing values from the training set and fills them simultaneously\n",
    "filled_X_test = imputer.transform(X_test) # tranform takes the imputing missing values from the training set and fills the test set with them\n",
    "\n",
    "# Check filled X_train\n",
    "filled_X_train"
   ]
  },
  {
   "cell_type": "code",
   "execution_count": 9,
   "id": "258d1e02",
   "metadata": {
    "execution": {
     "iopub.execute_input": "2025-06-05T16:57:30.893437Z",
     "iopub.status.busy": "2025-06-05T16:57:30.893076Z",
     "iopub.status.idle": "2025-06-05T16:57:30.901933Z",
     "shell.execute_reply": "2025-06-05T16:57:30.901198Z"
    },
    "papermill": {
     "duration": 0.01496,
     "end_time": "2025-06-05T16:57:30.903495",
     "exception": false,
     "start_time": "2025-06-05T16:57:30.888535",
     "status": "completed"
    },
    "tags": []
   },
   "outputs": [
    {
     "data": {
      "text/plain": [
       "Make             0\n",
       "Colour           0\n",
       "Doors            0\n",
       "Odometer (KM)    0\n",
       "dtype: int64"
      ]
     },
     "execution_count": 9,
     "metadata": {},
     "output_type": "execute_result"
    }
   ],
   "source": [
    "# Get our transformed data array's back into DataFrame's\n",
    "car_sales_filled_train = pd.DataFrame(filled_X_train, \n",
    "                                      columns=[\"Make\", \"Colour\", \"Doors\", \"Odometer (KM)\"])\n",
    "\n",
    "car_sales_filled_test = pd.DataFrame(filled_X_test, \n",
    "                                     columns=[\"Make\", \"Colour\", \"Doors\", \"Odometer (KM)\"])\n",
    "\n",
    "# Check missing data in training set\n",
    "car_sales_filled_train.isna().sum()"
   ]
  },
  {
   "cell_type": "code",
   "execution_count": 10,
   "id": "dfdedadc",
   "metadata": {
    "execution": {
     "iopub.execute_input": "2025-06-05T16:57:30.912066Z",
     "iopub.status.busy": "2025-06-05T16:57:30.911781Z",
     "iopub.status.idle": "2025-06-05T16:57:30.919019Z",
     "shell.execute_reply": "2025-06-05T16:57:30.918247Z"
    },
    "papermill": {
     "duration": 0.013172,
     "end_time": "2025-06-05T16:57:30.920439",
     "exception": false,
     "start_time": "2025-06-05T16:57:30.907267",
     "status": "completed"
    },
    "tags": []
   },
   "outputs": [
    {
     "data": {
      "text/plain": [
       "Make             0\n",
       "Colour           0\n",
       "Doors            0\n",
       "Odometer (KM)    0\n",
       "dtype: int64"
      ]
     },
     "execution_count": 10,
     "metadata": {},
     "output_type": "execute_result"
    }
   ],
   "source": [
    "# Check missing data in test set\n",
    "car_sales_filled_test.isna().sum()"
   ]
  },
  {
   "cell_type": "code",
   "execution_count": 11,
   "id": "d4fe853c",
   "metadata": {
    "execution": {
     "iopub.execute_input": "2025-06-05T16:57:30.929760Z",
     "iopub.status.busy": "2025-06-05T16:57:30.928974Z",
     "iopub.status.idle": "2025-06-05T16:57:30.936527Z",
     "shell.execute_reply": "2025-06-05T16:57:30.935676Z"
    },
    "papermill": {
     "duration": 0.013668,
     "end_time": "2025-06-05T16:57:30.938036",
     "exception": false,
     "start_time": "2025-06-05T16:57:30.924368",
     "status": "completed"
    },
    "tags": []
   },
   "outputs": [
    {
     "data": {
      "text/plain": [
       "Make             47\n",
       "Colour           46\n",
       "Odometer (KM)    48\n",
       "Doors            47\n",
       "Price             0\n",
       "dtype: int64"
      ]
     },
     "execution_count": 11,
     "metadata": {},
     "output_type": "execute_result"
    }
   ],
   "source": [
    "# Check to see the original... still missing values\n",
    "car_sales_missing.isna().sum()"
   ]
  },
  {
   "cell_type": "code",
   "execution_count": 12,
   "id": "68d55c69",
   "metadata": {
    "execution": {
     "iopub.execute_input": "2025-06-05T16:57:30.947461Z",
     "iopub.status.busy": "2025-06-05T16:57:30.947103Z",
     "iopub.status.idle": "2025-06-05T16:57:30.971446Z",
     "shell.execute_reply": "2025-06-05T16:57:30.970569Z"
    },
    "papermill": {
     "duration": 0.03086,
     "end_time": "2025-06-05T16:57:30.973171",
     "exception": false,
     "start_time": "2025-06-05T16:57:30.942311",
     "status": "completed"
    },
    "tags": []
   },
   "outputs": [
    {
     "data": {
      "text/plain": [
       "array([[0.00000e+00, 1.00000e+00, 0.00000e+00, ..., 1.00000e+00,\n",
       "        0.00000e+00, 7.19340e+04],\n",
       "       [0.00000e+00, 0.00000e+00, 0.00000e+00, ..., 1.00000e+00,\n",
       "        0.00000e+00, 1.62665e+05],\n",
       "       [0.00000e+00, 1.00000e+00, 0.00000e+00, ..., 1.00000e+00,\n",
       "        0.00000e+00, 4.28440e+04],\n",
       "       ...,\n",
       "       [0.00000e+00, 0.00000e+00, 0.00000e+00, ..., 1.00000e+00,\n",
       "        0.00000e+00, 1.96225e+05],\n",
       "       [0.00000e+00, 1.00000e+00, 0.00000e+00, ..., 1.00000e+00,\n",
       "        0.00000e+00, 1.33117e+05],\n",
       "       [0.00000e+00, 1.00000e+00, 0.00000e+00, ..., 1.00000e+00,\n",
       "        0.00000e+00, 1.50582e+05]])"
      ]
     },
     "execution_count": 12,
     "metadata": {},
     "output_type": "execute_result"
    }
   ],
   "source": [
    "# Import OneHotEncoder class from sklearn\n",
    "from sklearn.preprocessing import OneHotEncoder\n",
    "\n",
    "# Now let's one hot encode the features with the same code as before \n",
    "categorical_features = [\"Make\", \"Colour\", \"Doors\"]\n",
    "one_hot = OneHotEncoder()\n",
    "transformer = ColumnTransformer([(\"one_hot\", \n",
    "                                 one_hot, \n",
    "                                 categorical_features)],\n",
    "                                 remainder=\"passthrough\")\n",
    "\n",
    "# Fill train and test values separately\n",
    "transformed_X_train = transformer.fit_transform(car_sales_filled_train) # fit and transform the training data\n",
    "transformed_X_test = transformer.transform(car_sales_filled_test) # transform the test data\n",
    "\n",
    "# Check transformed and filled X_train\n",
    "transformed_X_train.toarray()"
   ]
  },
  {
   "cell_type": "code",
   "execution_count": 13,
   "id": "d3095cc3",
   "metadata": {
    "execution": {
     "iopub.execute_input": "2025-06-05T16:57:30.983064Z",
     "iopub.status.busy": "2025-06-05T16:57:30.982752Z",
     "iopub.status.idle": "2025-06-05T16:57:31.717846Z",
     "shell.execute_reply": "2025-06-05T16:57:31.716883Z"
    },
    "papermill": {
     "duration": 0.741804,
     "end_time": "2025-06-05T16:57:31.719460",
     "exception": false,
     "start_time": "2025-06-05T16:57:30.977656",
     "status": "completed"
    },
    "tags": []
   },
   "outputs": [
    {
     "data": {
      "text/plain": [
       "0.2122904333611909"
      ]
     },
     "execution_count": 13,
     "metadata": {},
     "output_type": "execute_result"
    }
   ],
   "source": [
    "# Now we've transformed X, let's see if we can fit a model\n",
    "np.random.seed(42)\n",
    "from sklearn.ensemble import RandomForestRegressor\n",
    "\n",
    "# Setup model\n",
    "model = RandomForestRegressor()\n",
    "\n",
    "# Make sure to use transformed (filled and one-hot encoded X data)\n",
    "model.fit(transformed_X_train, y_train)\n",
    "model.score(transformed_X_test, y_test)"
   ]
  },
  {
   "cell_type": "code",
   "execution_count": null,
   "id": "a22fa128",
   "metadata": {
    "papermill": {
     "duration": 0.004299,
     "end_time": "2025-06-05T16:57:31.728263",
     "exception": false,
     "start_time": "2025-06-05T16:57:31.723964",
     "status": "completed"
    },
    "tags": []
   },
   "outputs": [],
   "source": []
  }
 ],
 "metadata": {
  "kaggle": {
   "accelerator": "none",
   "dataSources": [],
   "dockerImageVersionId": 31012,
   "isGpuEnabled": false,
   "isInternetEnabled": true,
   "language": "python",
   "sourceType": "notebook"
  },
  "kernelspec": {
   "display_name": "Python 3",
   "language": "python",
   "name": "python3"
  },
  "language_info": {
   "codemirror_mode": {
    "name": "ipython",
    "version": 3
   },
   "file_extension": ".py",
   "mimetype": "text/x-python",
   "name": "python",
   "nbconvert_exporter": "python",
   "pygments_lexer": "ipython3",
   "version": "3.11.11"
  },
  "papermill": {
   "default_parameters": {},
   "duration": 11.386029,
   "end_time": "2025-06-05T16:57:32.454522",
   "environment_variables": {},
   "exception": null,
   "input_path": "__notebook__.ipynb",
   "output_path": "__notebook__.ipynb",
   "parameters": {},
   "start_time": "2025-06-05T16:57:21.068493",
   "version": "2.6.0"
  }
 },
 "nbformat": 4,
 "nbformat_minor": 5
}
