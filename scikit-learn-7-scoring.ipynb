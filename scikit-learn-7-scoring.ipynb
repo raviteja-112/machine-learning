{
 "cells": [
  {
   "cell_type": "code",
   "execution_count": 1,
   "id": "4d55436e",
   "metadata": {
    "_cell_guid": "b1076dfc-b9ad-4769-8c92-a6c4dae69d19",
    "_uuid": "8f2839f25d086af736a60e9eeb907d3b93b6e0e5",
    "execution": {
     "iopub.execute_input": "2025-07-02T08:39:21.488850Z",
     "iopub.status.busy": "2025-07-02T08:39:21.488545Z",
     "iopub.status.idle": "2025-07-02T08:39:23.315799Z",
     "shell.execute_reply": "2025-07-02T08:39:23.315073Z"
    },
    "papermill": {
     "duration": 1.834097,
     "end_time": "2025-07-02T08:39:23.317362",
     "exception": false,
     "start_time": "2025-07-02T08:39:21.483265",
     "status": "completed"
    },
    "tags": []
   },
   "outputs": [],
   "source": [
    "# This Python 3 environment comes with many helpful analytics libraries installed\n",
    "# It is defined by the kaggle/python Docker image: https://github.com/kaggle/docker-python\n",
    "# For example, here's several helpful packages to load\n",
    "\n",
    "import numpy as np # linear algebra\n",
    "import pandas as pd # data processing, CSV file I/O (e.g. pd.read_csv)\n",
    "\n",
    "# Input data files are available in the read-only \"../input/\" directory\n",
    "# For example, running this (by clicking run or pressing Shift+Enter) will list all files under the input directory\n",
    "\n",
    "import os\n",
    "for dirname, _, filenames in os.walk('/kaggle/input'):\n",
    "    for filename in filenames:\n",
    "        print(os.path.join(dirname, filename))\n",
    "\n",
    "# You can write up to 20GB to the current directory (/kaggle/working/) that gets preserved as output when you create a version using \"Save & Run All\" \n",
    "# You can also write temporary files to /kaggle/temp/, but they won't be saved outside of the current session"
   ]
  },
  {
   "cell_type": "code",
   "execution_count": 2,
   "id": "6d28c35f",
   "metadata": {
    "execution": {
     "iopub.execute_input": "2025-07-02T08:39:23.325706Z",
     "iopub.status.busy": "2025-07-02T08:39:23.325318Z",
     "iopub.status.idle": "2025-07-02T08:39:23.519275Z",
     "shell.execute_reply": "2025-07-02T08:39:23.518445Z"
    },
    "papermill": {
     "duration": 0.199681,
     "end_time": "2025-07-02T08:39:23.520824",
     "exception": false,
     "start_time": "2025-07-02T08:39:23.321143",
     "status": "completed"
    },
    "tags": []
   },
   "outputs": [
    {
     "data": {
      "text/html": [
       "<div>\n",
       "<style scoped>\n",
       "    .dataframe tbody tr th:only-of-type {\n",
       "        vertical-align: middle;\n",
       "    }\n",
       "\n",
       "    .dataframe tbody tr th {\n",
       "        vertical-align: top;\n",
       "    }\n",
       "\n",
       "    .dataframe thead th {\n",
       "        text-align: right;\n",
       "    }\n",
       "</style>\n",
       "<table border=\"1\" class=\"dataframe\">\n",
       "  <thead>\n",
       "    <tr style=\"text-align: right;\">\n",
       "      <th></th>\n",
       "      <th>age</th>\n",
       "      <th>sex</th>\n",
       "      <th>cp</th>\n",
       "      <th>trestbps</th>\n",
       "      <th>chol</th>\n",
       "      <th>fbs</th>\n",
       "      <th>restecg</th>\n",
       "      <th>thalach</th>\n",
       "      <th>exang</th>\n",
       "      <th>oldpeak</th>\n",
       "      <th>slope</th>\n",
       "      <th>ca</th>\n",
       "      <th>thal</th>\n",
       "      <th>target</th>\n",
       "    </tr>\n",
       "  </thead>\n",
       "  <tbody>\n",
       "    <tr>\n",
       "      <th>0</th>\n",
       "      <td>63</td>\n",
       "      <td>1</td>\n",
       "      <td>3</td>\n",
       "      <td>145</td>\n",
       "      <td>233</td>\n",
       "      <td>1</td>\n",
       "      <td>0</td>\n",
       "      <td>150</td>\n",
       "      <td>0</td>\n",
       "      <td>2.3</td>\n",
       "      <td>0</td>\n",
       "      <td>0</td>\n",
       "      <td>1</td>\n",
       "      <td>1</td>\n",
       "    </tr>\n",
       "    <tr>\n",
       "      <th>1</th>\n",
       "      <td>37</td>\n",
       "      <td>1</td>\n",
       "      <td>2</td>\n",
       "      <td>130</td>\n",
       "      <td>250</td>\n",
       "      <td>0</td>\n",
       "      <td>1</td>\n",
       "      <td>187</td>\n",
       "      <td>0</td>\n",
       "      <td>3.5</td>\n",
       "      <td>0</td>\n",
       "      <td>0</td>\n",
       "      <td>2</td>\n",
       "      <td>1</td>\n",
       "    </tr>\n",
       "    <tr>\n",
       "      <th>2</th>\n",
       "      <td>41</td>\n",
       "      <td>0</td>\n",
       "      <td>1</td>\n",
       "      <td>130</td>\n",
       "      <td>204</td>\n",
       "      <td>0</td>\n",
       "      <td>0</td>\n",
       "      <td>172</td>\n",
       "      <td>0</td>\n",
       "      <td>1.4</td>\n",
       "      <td>2</td>\n",
       "      <td>0</td>\n",
       "      <td>2</td>\n",
       "      <td>1</td>\n",
       "    </tr>\n",
       "    <tr>\n",
       "      <th>3</th>\n",
       "      <td>56</td>\n",
       "      <td>1</td>\n",
       "      <td>1</td>\n",
       "      <td>120</td>\n",
       "      <td>236</td>\n",
       "      <td>0</td>\n",
       "      <td>1</td>\n",
       "      <td>178</td>\n",
       "      <td>0</td>\n",
       "      <td>0.8</td>\n",
       "      <td>2</td>\n",
       "      <td>0</td>\n",
       "      <td>2</td>\n",
       "      <td>1</td>\n",
       "    </tr>\n",
       "    <tr>\n",
       "      <th>4</th>\n",
       "      <td>57</td>\n",
       "      <td>0</td>\n",
       "      <td>0</td>\n",
       "      <td>120</td>\n",
       "      <td>354</td>\n",
       "      <td>0</td>\n",
       "      <td>1</td>\n",
       "      <td>163</td>\n",
       "      <td>1</td>\n",
       "      <td>0.6</td>\n",
       "      <td>2</td>\n",
       "      <td>0</td>\n",
       "      <td>2</td>\n",
       "      <td>1</td>\n",
       "    </tr>\n",
       "  </tbody>\n",
       "</table>\n",
       "</div>"
      ],
      "text/plain": [
       "   age  sex  cp  trestbps  chol  fbs  restecg  thalach  exang  oldpeak  slope  \\\n",
       "0   63    1   3       145   233    1        0      150      0      2.3      0   \n",
       "1   37    1   2       130   250    0        1      187      0      3.5      0   \n",
       "2   41    0   1       130   204    0        0      172      0      1.4      2   \n",
       "3   56    1   1       120   236    0        1      178      0      0.8      2   \n",
       "4   57    0   0       120   354    0        1      163      1      0.6      2   \n",
       "\n",
       "   ca  thal  target  \n",
       "0   0     1       1  \n",
       "1   0     2       1  \n",
       "2   0     2       1  \n",
       "3   0     2       1  \n",
       "4   0     2       1  "
      ]
     },
     "execution_count": 2,
     "metadata": {},
     "output_type": "execute_result"
    }
   ],
   "source": [
    "heart_disease = pd.read_csv(\"https://raw.githubusercontent.com/mrdbourke/zero-to-mastery-ml/master/data/heart-disease.csv\") # load directly from URL (source: https://github.com/mrdbourke/zero-to-mastery-ml/blob/master/data/heart-disease.csv)\n",
    "heart_disease.head()"
   ]
  },
  {
   "cell_type": "code",
   "execution_count": 3,
   "id": "d977b0cd",
   "metadata": {
    "execution": {
     "iopub.execute_input": "2025-07-02T08:39:23.529637Z",
     "iopub.status.busy": "2025-07-02T08:39:23.529354Z",
     "iopub.status.idle": "2025-07-02T08:39:26.379652Z",
     "shell.execute_reply": "2025-07-02T08:39:26.378822Z"
    },
    "papermill": {
     "duration": 2.856698,
     "end_time": "2025-07-02T08:39:26.381479",
     "exception": false,
     "start_time": "2025-07-02T08:39:23.524781",
     "status": "completed"
    },
    "tags": []
   },
   "outputs": [],
   "source": [
    "from sklearn.datasets import fetch_california_housing\n",
    "housing = fetch_california_housing()\n",
    "housing; # gets downloaded as dictionary"
   ]
  },
  {
   "cell_type": "code",
   "execution_count": 4,
   "id": "c9e274b2",
   "metadata": {
    "execution": {
     "iopub.execute_input": "2025-07-02T08:39:26.390395Z",
     "iopub.status.busy": "2025-07-02T08:39:26.389950Z",
     "iopub.status.idle": "2025-07-02T08:39:26.407305Z",
     "shell.execute_reply": "2025-07-02T08:39:26.406447Z"
    },
    "papermill": {
     "duration": 0.023631,
     "end_time": "2025-07-02T08:39:26.408829",
     "exception": false,
     "start_time": "2025-07-02T08:39:26.385198",
     "status": "completed"
    },
    "tags": []
   },
   "outputs": [
    {
     "data": {
      "text/html": [
       "<div>\n",
       "<style scoped>\n",
       "    .dataframe tbody tr th:only-of-type {\n",
       "        vertical-align: middle;\n",
       "    }\n",
       "\n",
       "    .dataframe tbody tr th {\n",
       "        vertical-align: top;\n",
       "    }\n",
       "\n",
       "    .dataframe thead th {\n",
       "        text-align: right;\n",
       "    }\n",
       "</style>\n",
       "<table border=\"1\" class=\"dataframe\">\n",
       "  <thead>\n",
       "    <tr style=\"text-align: right;\">\n",
       "      <th></th>\n",
       "      <th>MedInc</th>\n",
       "      <th>HouseAge</th>\n",
       "      <th>AveRooms</th>\n",
       "      <th>AveBedrms</th>\n",
       "      <th>Population</th>\n",
       "      <th>AveOccup</th>\n",
       "      <th>Latitude</th>\n",
       "      <th>Longitude</th>\n",
       "      <th>target</th>\n",
       "    </tr>\n",
       "  </thead>\n",
       "  <tbody>\n",
       "    <tr>\n",
       "      <th>0</th>\n",
       "      <td>8.3252</td>\n",
       "      <td>41.0</td>\n",
       "      <td>6.984127</td>\n",
       "      <td>1.023810</td>\n",
       "      <td>322.0</td>\n",
       "      <td>2.555556</td>\n",
       "      <td>37.88</td>\n",
       "      <td>-122.23</td>\n",
       "      <td>4.526</td>\n",
       "    </tr>\n",
       "    <tr>\n",
       "      <th>1</th>\n",
       "      <td>8.3014</td>\n",
       "      <td>21.0</td>\n",
       "      <td>6.238137</td>\n",
       "      <td>0.971880</td>\n",
       "      <td>2401.0</td>\n",
       "      <td>2.109842</td>\n",
       "      <td>37.86</td>\n",
       "      <td>-122.22</td>\n",
       "      <td>3.585</td>\n",
       "    </tr>\n",
       "    <tr>\n",
       "      <th>2</th>\n",
       "      <td>7.2574</td>\n",
       "      <td>52.0</td>\n",
       "      <td>8.288136</td>\n",
       "      <td>1.073446</td>\n",
       "      <td>496.0</td>\n",
       "      <td>2.802260</td>\n",
       "      <td>37.85</td>\n",
       "      <td>-122.24</td>\n",
       "      <td>3.521</td>\n",
       "    </tr>\n",
       "    <tr>\n",
       "      <th>3</th>\n",
       "      <td>5.6431</td>\n",
       "      <td>52.0</td>\n",
       "      <td>5.817352</td>\n",
       "      <td>1.073059</td>\n",
       "      <td>558.0</td>\n",
       "      <td>2.547945</td>\n",
       "      <td>37.85</td>\n",
       "      <td>-122.25</td>\n",
       "      <td>3.413</td>\n",
       "    </tr>\n",
       "    <tr>\n",
       "      <th>4</th>\n",
       "      <td>3.8462</td>\n",
       "      <td>52.0</td>\n",
       "      <td>6.281853</td>\n",
       "      <td>1.081081</td>\n",
       "      <td>565.0</td>\n",
       "      <td>2.181467</td>\n",
       "      <td>37.85</td>\n",
       "      <td>-122.25</td>\n",
       "      <td>3.422</td>\n",
       "    </tr>\n",
       "  </tbody>\n",
       "</table>\n",
       "</div>"
      ],
      "text/plain": [
       "   MedInc  HouseAge  AveRooms  AveBedrms  Population  AveOccup  Latitude  \\\n",
       "0  8.3252      41.0  6.984127   1.023810       322.0  2.555556     37.88   \n",
       "1  8.3014      21.0  6.238137   0.971880      2401.0  2.109842     37.86   \n",
       "2  7.2574      52.0  8.288136   1.073446       496.0  2.802260     37.85   \n",
       "3  5.6431      52.0  5.817352   1.073059       558.0  2.547945     37.85   \n",
       "4  3.8462      52.0  6.281853   1.081081       565.0  2.181467     37.85   \n",
       "\n",
       "   Longitude  target  \n",
       "0    -122.23   4.526  \n",
       "1    -122.22   3.585  \n",
       "2    -122.24   3.521  \n",
       "3    -122.25   3.413  \n",
       "4    -122.25   3.422  "
      ]
     },
     "execution_count": 4,
     "metadata": {},
     "output_type": "execute_result"
    }
   ],
   "source": [
    "housing_df = pd.DataFrame(housing[\"data\"], columns=housing[\"feature_names\"])\n",
    "housing_df[\"target\"] = pd.Series(housing[\"target\"])\n",
    "housing_df.head()"
   ]
  },
  {
   "cell_type": "markdown",
   "id": "3dc13993",
   "metadata": {
    "papermill": {
     "duration": 0.003623,
     "end_time": "2025-07-02T08:39:26.416364",
     "exception": false,
     "start_time": "2025-07-02T08:39:26.412741",
     "status": "completed"
    },
    "tags": []
   },
   "source": [
    "## Classification\n"
   ]
  },
  {
   "cell_type": "code",
   "execution_count": 5,
   "id": "d0b47f1d",
   "metadata": {
    "execution": {
     "iopub.execute_input": "2025-07-02T08:39:26.426087Z",
     "iopub.status.busy": "2025-07-02T08:39:26.425530Z",
     "iopub.status.idle": "2025-07-02T08:39:26.927997Z",
     "shell.execute_reply": "2025-07-02T08:39:26.927049Z"
    },
    "papermill": {
     "duration": 0.508971,
     "end_time": "2025-07-02T08:39:26.929601",
     "exception": false,
     "start_time": "2025-07-02T08:39:26.420630",
     "status": "completed"
    },
    "tags": []
   },
   "outputs": [],
   "source": [
    "from sklearn.model_selection import cross_val_score\n",
    "from sklearn.ensemble import RandomForestClassifier\n",
    "\n",
    "np.random.seed(42)\n",
    "\n",
    "X = heart_disease.drop(\"target\", axis=1)\n",
    "y = heart_disease[\"target\"]\n",
    "\n",
    "clf = RandomForestClassifier(n_estimators=100)"
   ]
  },
  {
   "cell_type": "code",
   "execution_count": 6,
   "id": "7637128e",
   "metadata": {
    "execution": {
     "iopub.execute_input": "2025-07-02T08:39:26.940760Z",
     "iopub.status.busy": "2025-07-02T08:39:26.940008Z",
     "iopub.status.idle": "2025-07-02T08:39:27.684357Z",
     "shell.execute_reply": "2025-07-02T08:39:27.683458Z"
    },
    "papermill": {
     "duration": 0.751648,
     "end_time": "2025-07-02T08:39:27.685891",
     "exception": false,
     "start_time": "2025-07-02T08:39:26.934243",
     "status": "completed"
    },
    "tags": []
   },
   "outputs": [
    {
     "data": {
      "text/plain": [
       "array([0.81967213, 0.90163934, 0.83606557, 0.78333333, 0.78333333])"
      ]
     },
     "execution_count": 6,
     "metadata": {},
     "output_type": "execute_result"
    }
   ],
   "source": [
    "np.random.seed(42)\n",
    "cv_acc = cross_val_score(clf, X, y, cv=5)\n",
    "cv_acc"
   ]
  },
  {
   "cell_type": "code",
   "execution_count": 7,
   "id": "a8ca9d27",
   "metadata": {
    "execution": {
     "iopub.execute_input": "2025-07-02T08:39:27.694953Z",
     "iopub.status.busy": "2025-07-02T08:39:27.694376Z",
     "iopub.status.idle": "2025-07-02T08:39:27.699338Z",
     "shell.execute_reply": "2025-07-02T08:39:27.698560Z"
    },
    "papermill": {
     "duration": 0.010905,
     "end_time": "2025-07-02T08:39:27.700681",
     "exception": false,
     "start_time": "2025-07-02T08:39:27.689776",
     "status": "completed"
    },
    "tags": []
   },
   "outputs": [
    {
     "name": "stdout",
     "output_type": "stream",
     "text": [
      "The cross-validated accuracy is: 82.48%\n"
     ]
    }
   ],
   "source": [
    "\n",
    "# Cross-validated accuracy\n",
    "print(f\"The cross-validated accuracy is: {np.mean(cv_acc)*100:.2f}%\")"
   ]
  },
  {
   "cell_type": "code",
   "execution_count": 8,
   "id": "c8858246",
   "metadata": {
    "execution": {
     "iopub.execute_input": "2025-07-02T08:39:27.709786Z",
     "iopub.status.busy": "2025-07-02T08:39:27.709427Z",
     "iopub.status.idle": "2025-07-02T08:39:28.544210Z",
     "shell.execute_reply": "2025-07-02T08:39:28.543293Z"
    },
    "papermill": {
     "duration": 0.841263,
     "end_time": "2025-07-02T08:39:28.545982",
     "exception": false,
     "start_time": "2025-07-02T08:39:27.704719",
     "status": "completed"
    },
    "tags": []
   },
   "outputs": [
    {
     "name": "stdout",
     "output_type": "stream",
     "text": [
      "The cross-validated accuracy is: 82.48%\n"
     ]
    }
   ],
   "source": [
    "np.random.seed(42)\n",
    "cv_acc = cross_val_score(clf, X, y, cv=5, scoring=\"accuracy\")\n",
    "print(f\"The cross-validated accuracy is: {np.mean(cv_acc)*100:.2f}%\")"
   ]
  },
  {
   "cell_type": "code",
   "execution_count": 9,
   "id": "e27a3931",
   "metadata": {
    "execution": {
     "iopub.execute_input": "2025-07-02T08:39:28.555461Z",
     "iopub.status.busy": "2025-07-02T08:39:28.555173Z",
     "iopub.status.idle": "2025-07-02T08:39:29.323501Z",
     "shell.execute_reply": "2025-07-02T08:39:29.322579Z"
    },
    "papermill": {
     "duration": 0.77469,
     "end_time": "2025-07-02T08:39:29.324986",
     "exception": false,
     "start_time": "2025-07-02T08:39:28.550296",
     "status": "completed"
    },
    "tags": []
   },
   "outputs": [
    {
     "name": "stdout",
     "output_type": "stream",
     "text": [
      "The cross-validated precision is: 0.83\n"
     ]
    }
   ],
   "source": [
    "np.random.seed(42)\n",
    "cv_precision = cross_val_score(clf, X, y, cv=5, scoring=\"precision\")\n",
    "print(f\"The cross-validated precision is: {np.mean(cv_precision):.2f}\")"
   ]
  },
  {
   "cell_type": "code",
   "execution_count": 10,
   "id": "dd70e95a",
   "metadata": {
    "execution": {
     "iopub.execute_input": "2025-07-02T08:39:29.334695Z",
     "iopub.status.busy": "2025-07-02T08:39:29.333848Z",
     "iopub.status.idle": "2025-07-02T08:39:30.112978Z",
     "shell.execute_reply": "2025-07-02T08:39:30.111999Z"
    },
    "papermill": {
     "duration": 0.785292,
     "end_time": "2025-07-02T08:39:30.114338",
     "exception": false,
     "start_time": "2025-07-02T08:39:29.329046",
     "status": "completed"
    },
    "tags": []
   },
   "outputs": [
    {
     "name": "stdout",
     "output_type": "stream",
     "text": [
      "The cross-validated recall is: 0.85\n"
     ]
    }
   ],
   "source": [
    "\n",
    "np.random.seed(42)\n",
    "cv_recall = cross_val_score(clf, X, y, cv=5, scoring=\"recall\")\n",
    "print(f\"The cross-validated recall is: {np.mean(cv_recall):.2f}\")"
   ]
  },
  {
   "cell_type": "code",
   "execution_count": 11,
   "id": "bb9fc476",
   "metadata": {
    "execution": {
     "iopub.execute_input": "2025-07-02T08:39:30.124223Z",
     "iopub.status.busy": "2025-07-02T08:39:30.123833Z",
     "iopub.status.idle": "2025-07-02T08:39:30.868821Z",
     "shell.execute_reply": "2025-07-02T08:39:30.867769Z"
    },
    "papermill": {
     "duration": 0.751721,
     "end_time": "2025-07-02T08:39:30.870517",
     "exception": false,
     "start_time": "2025-07-02T08:39:30.118796",
     "status": "completed"
    },
    "tags": []
   },
   "outputs": [
    {
     "name": "stdout",
     "output_type": "stream",
     "text": [
      "The cross-validated F1 score is: 0.84\n"
     ]
    }
   ],
   "source": [
    "np.random.seed(42)\n",
    "cv_f1 = cross_val_score(clf, X, y, cv=5, scoring=\"f1\")\n",
    "print(f\"The cross-validated F1 score is: {np.mean(cv_f1):.2f}\")"
   ]
  },
  {
   "cell_type": "markdown",
   "id": "6c0b53a0",
   "metadata": {
    "papermill": {
     "duration": 0.004215,
     "end_time": "2025-07-02T08:39:30.879439",
     "exception": false,
     "start_time": "2025-07-02T08:39:30.875224",
     "status": "completed"
    },
    "tags": []
   },
   "source": [
    "## Regression"
   ]
  },
  {
   "cell_type": "code",
   "execution_count": 12,
   "id": "a5bbdd07",
   "metadata": {
    "execution": {
     "iopub.execute_input": "2025-07-02T08:39:30.888564Z",
     "iopub.status.busy": "2025-07-02T08:39:30.888237Z",
     "iopub.status.idle": "2025-07-02T08:39:30.894419Z",
     "shell.execute_reply": "2025-07-02T08:39:30.893684Z"
    },
    "papermill": {
     "duration": 0.012282,
     "end_time": "2025-07-02T08:39:30.895749",
     "exception": false,
     "start_time": "2025-07-02T08:39:30.883467",
     "status": "completed"
    },
    "tags": []
   },
   "outputs": [],
   "source": [
    "from sklearn.model_selection import cross_val_score\n",
    "from sklearn.ensemble import RandomForestRegressor\n",
    "\n",
    "np.random.seed(42)\n",
    "\n",
    "X = housing_df.drop(\"target\", axis=1)\n",
    "y = housing_df[\"target\"]\n",
    "\n",
    "model = RandomForestRegressor(n_estimators=100)"
   ]
  },
  {
   "cell_type": "code",
   "execution_count": 13,
   "id": "d0e6dea8",
   "metadata": {
    "execution": {
     "iopub.execute_input": "2025-07-02T08:39:30.905575Z",
     "iopub.status.busy": "2025-07-02T08:39:30.904830Z",
     "iopub.status.idle": "2025-07-02T08:40:32.522412Z",
     "shell.execute_reply": "2025-07-02T08:40:32.521516Z"
    },
    "papermill": {
     "duration": 61.627681,
     "end_time": "2025-07-02T08:40:32.527739",
     "exception": false,
     "start_time": "2025-07-02T08:39:30.900058",
     "status": "completed"
    },
    "tags": []
   },
   "outputs": [
    {
     "name": "stdout",
     "output_type": "stream",
     "text": [
      "The cross-validated R^2 score is: 0.65\n",
      "CPU times: user 1min 1s, sys: 487 ms, total: 1min 1s\n",
      "Wall time: 1min 1s\n"
     ]
    }
   ],
   "source": [
    "%%time \n",
    "np.random.seed(42)\n",
    "cv_r2 = cross_val_score(model, X, y, cv=5, scoring=\"r2\")\n",
    "print(f\"The cross-validated R^2 score is: {np.mean(cv_r2):.2f}\")"
   ]
  },
  {
   "cell_type": "code",
   "execution_count": 14,
   "id": "ea3814ca",
   "metadata": {
    "execution": {
     "iopub.execute_input": "2025-07-02T08:40:32.537090Z",
     "iopub.status.busy": "2025-07-02T08:40:32.536710Z",
     "iopub.status.idle": "2025-07-02T08:41:34.214163Z",
     "shell.execute_reply": "2025-07-02T08:41:34.213266Z"
    },
    "papermill": {
     "duration": 61.687129,
     "end_time": "2025-07-02T08:41:34.218991",
     "exception": false,
     "start_time": "2025-07-02T08:40:32.531862",
     "status": "completed"
    },
    "tags": []
   },
   "outputs": [
    {
     "name": "stdout",
     "output_type": "stream",
     "text": [
      "The cross-validated MAE score is: -0.47\n",
      "CPU times: user 1min 1s, sys: 498 ms, total: 1min 1s\n",
      "Wall time: 1min 1s\n"
     ]
    }
   ],
   "source": [
    "%%time\n",
    "np.random.seed(42)\n",
    "cv_mae = cross_val_score(model, X, y, cv=5, scoring=\"neg_mean_absolute_error\")\n",
    "print(f\"The cross-validated MAE score is: {np.mean(cv_mae):.2f}\")"
   ]
  },
  {
   "cell_type": "code",
   "execution_count": 15,
   "id": "9f7eec3d",
   "metadata": {
    "execution": {
     "iopub.execute_input": "2025-07-02T08:41:34.228568Z",
     "iopub.status.busy": "2025-07-02T08:41:34.228263Z",
     "iopub.status.idle": "2025-07-02T08:42:35.867110Z",
     "shell.execute_reply": "2025-07-02T08:42:35.865988Z"
    },
    "papermill": {
     "duration": 61.648928,
     "end_time": "2025-07-02T08:42:35.872101",
     "exception": false,
     "start_time": "2025-07-02T08:41:34.223173",
     "status": "completed"
    },
    "tags": []
   },
   "outputs": [
    {
     "name": "stdout",
     "output_type": "stream",
     "text": [
      "The cross-validated MSE score is: -0.43\n"
     ]
    }
   ],
   "source": [
    "np.random.seed(42)\n",
    "cv_mse = cross_val_score(model, \n",
    "                         X, \n",
    "                         y, \n",
    "                         cv=5,\n",
    "                         scoring=\"neg_mean_squared_error\")\n",
    "print(f\"The cross-validated MSE score is: {np.mean(cv_mse):.2f}\")"
   ]
  },
  {
   "cell_type": "code",
   "execution_count": 16,
   "id": "6fa1afe9",
   "metadata": {
    "execution": {
     "iopub.execute_input": "2025-07-02T08:42:35.881671Z",
     "iopub.status.busy": "2025-07-02T08:42:35.881366Z",
     "iopub.status.idle": "2025-07-02T08:42:40.439664Z",
     "shell.execute_reply": "2025-07-02T08:42:40.438511Z"
    },
    "papermill": {
     "duration": 4.564989,
     "end_time": "2025-07-02T08:42:40.441226",
     "exception": false,
     "start_time": "2025-07-02T08:42:35.876237",
     "status": "completed"
    },
    "tags": []
   },
   "outputs": [
    {
     "name": "stdout",
     "output_type": "stream",
     "text": [
      "Requirement already satisfied: py-cpuinfo in /usr/local/lib/python3.11/dist-packages (9.0.0)\r\n",
      "Note: you may need to restart the kernel to use updated packages.\n"
     ]
    }
   ],
   "source": [
    "pip install py-cpuinfo\n"
   ]
  },
  {
   "cell_type": "code",
   "execution_count": 17,
   "id": "002f0e4c",
   "metadata": {
    "execution": {
     "iopub.execute_input": "2025-07-02T08:42:40.451631Z",
     "iopub.status.busy": "2025-07-02T08:42:40.451033Z",
     "iopub.status.idle": "2025-07-02T08:42:41.727428Z",
     "shell.execute_reply": "2025-07-02T08:42:41.726274Z"
    },
    "papermill": {
     "duration": 1.283818,
     "end_time": "2025-07-02T08:42:41.729278",
     "exception": false,
     "start_time": "2025-07-02T08:42:40.445460",
     "status": "completed"
    },
    "tags": []
   },
   "outputs": [
    {
     "name": "stdout",
     "output_type": "stream",
     "text": [
      "CPU Name: Intel(R) Xeon(R) CPU @ 2.20GHz\n"
     ]
    }
   ],
   "source": [
    "import cpuinfo\n",
    "\n",
    "info = cpuinfo.get_cpu_info()\n",
    "print(f\"CPU Name: {info['brand_raw']}\")\n"
   ]
  }
 ],
 "metadata": {
  "kaggle": {
   "accelerator": "none",
   "dataSources": [],
   "dockerImageVersionId": 31040,
   "isGpuEnabled": false,
   "isInternetEnabled": true,
   "language": "python",
   "sourceType": "notebook"
  },
  "kernelspec": {
   "display_name": "Python 3",
   "language": "python",
   "name": "python3"
  },
  "language_info": {
   "codemirror_mode": {
    "name": "ipython",
    "version": 3
   },
   "file_extension": ".py",
   "mimetype": "text/x-python",
   "name": "python",
   "nbconvert_exporter": "python",
   "pygments_lexer": "ipython3",
   "version": "3.11.11"
  },
  "papermill": {
   "default_parameters": {},
   "duration": 205.684951,
   "end_time": "2025-07-02T08:42:42.455547",
   "environment_variables": {},
   "exception": null,
   "input_path": "__notebook__.ipynb",
   "output_path": "__notebook__.ipynb",
   "parameters": {},
   "start_time": "2025-07-02T08:39:16.770596",
   "version": "2.6.0"
  }
 },
 "nbformat": 4,
 "nbformat_minor": 5
}
