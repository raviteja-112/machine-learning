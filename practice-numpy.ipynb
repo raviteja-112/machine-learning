{
 "cells": [
  {
   "cell_type": "code",
   "execution_count": 1,
   "id": "5d7fa8ce",
   "metadata": {
    "_cell_guid": "b1076dfc-b9ad-4769-8c92-a6c4dae69d19",
    "_uuid": "8f2839f25d086af736a60e9eeb907d3b93b6e0e5",
    "execution": {
     "iopub.execute_input": "2025-05-18T05:18:31.178279Z",
     "iopub.status.busy": "2025-05-18T05:18:31.177892Z",
     "iopub.status.idle": "2025-05-18T05:18:33.268854Z",
     "shell.execute_reply": "2025-05-18T05:18:33.267927Z"
    },
    "papermill": {
     "duration": 2.098572,
     "end_time": "2025-05-18T05:18:33.270804",
     "exception": false,
     "start_time": "2025-05-18T05:18:31.172232",
     "status": "completed"
    },
    "tags": []
   },
   "outputs": [],
   "source": [
    "# This Python 3 environment comes with many helpful analytics libraries installed\n",
    "# It is defined by the kaggle/python Docker image: https://github.com/kaggle/docker-python\n",
    "# For example, here's several helpful packages to load\n",
    "\n",
    "import numpy as np # linear algebra\n",
    "import pandas as pd # data processing, CSV file I/O (e.g. pd.read_csv)\n",
    "\n",
    "# Input data files are available in the read-only \"../input/\" directory\n",
    "# For example, running this (by clicking run or pressing Shift+Enter) will list all files under the input directory\n",
    "\n",
    "import os\n",
    "for dirname, _, filenames in os.walk('/kaggle/input'):\n",
    "    for filename in filenames:\n",
    "        print(os.path.join(dirname, filename))\n",
    "\n",
    "# You can write up to 20GB to the current directory (/kaggle/working/) that gets preserved as output when you create a version using \"Save & Run All\" \n",
    "# You can also write temporary files to /kaggle/temp/, but they won't be saved outside of the current session"
   ]
  },
  {
   "cell_type": "markdown",
   "id": "21f2eb8e",
   "metadata": {
    "papermill": {
     "duration": 0.003307,
     "end_time": "2025-05-18T05:18:33.278119",
     "exception": false,
     "start_time": "2025-05-18T05:18:33.274812",
     "status": "completed"
    },
    "tags": []
   },
   "source": [
    "## butter sales"
   ]
  },
  {
   "cell_type": "code",
   "execution_count": 2,
   "id": "4ce1cf2e",
   "metadata": {
    "execution": {
     "iopub.execute_input": "2025-05-18T05:18:33.287361Z",
     "iopub.status.busy": "2025-05-18T05:18:33.286839Z",
     "iopub.status.idle": "2025-05-18T05:18:33.298849Z",
     "shell.execute_reply": "2025-05-18T05:18:33.297894Z"
    },
    "papermill": {
     "duration": 0.018799,
     "end_time": "2025-05-18T05:18:33.300664",
     "exception": false,
     "start_time": "2025-05-18T05:18:33.281865",
     "status": "completed"
    },
    "tags": []
   },
   "outputs": [
    {
     "data": {
      "text/plain": [
       "array([[ 8, 10, 17],\n",
       "       [10, 16,  2],\n",
       "       [10,  4,  7],\n",
       "       [16, 17,  9],\n",
       "       [15, 10,  6]])"
      ]
     },
     "execution_count": 2,
     "metadata": {},
     "output_type": "execute_result"
    }
   ],
   "source": [
    "np.random.random(0)\n",
    "sales_amount = np.random.randint(20,size=(5,3))\n",
    "sales_amount"
   ]
  },
  {
   "cell_type": "code",
   "execution_count": 3,
   "id": "97987cc2",
   "metadata": {
    "execution": {
     "iopub.execute_input": "2025-05-18T05:18:33.309751Z",
     "iopub.status.busy": "2025-05-18T05:18:33.309392Z",
     "iopub.status.idle": "2025-05-18T05:18:33.338716Z",
     "shell.execute_reply": "2025-05-18T05:18:33.337595Z"
    },
    "papermill": {
     "duration": 0.035845,
     "end_time": "2025-05-18T05:18:33.340481",
     "exception": false,
     "start_time": "2025-05-18T05:18:33.304636",
     "status": "completed"
    },
    "tags": []
   },
   "outputs": [
    {
     "data": {
      "text/html": [
       "<div>\n",
       "<style scoped>\n",
       "    .dataframe tbody tr th:only-of-type {\n",
       "        vertical-align: middle;\n",
       "    }\n",
       "\n",
       "    .dataframe tbody tr th {\n",
       "        vertical-align: top;\n",
       "    }\n",
       "\n",
       "    .dataframe thead th {\n",
       "        text-align: right;\n",
       "    }\n",
       "</style>\n",
       "<table border=\"1\" class=\"dataframe\">\n",
       "  <thead>\n",
       "    <tr style=\"text-align: right;\">\n",
       "      <th></th>\n",
       "      <th>Almonad</th>\n",
       "      <th>peanut</th>\n",
       "      <th>cashew</th>\n",
       "    </tr>\n",
       "  </thead>\n",
       "  <tbody>\n",
       "    <tr>\n",
       "      <th>mon</th>\n",
       "      <td>8</td>\n",
       "      <td>10</td>\n",
       "      <td>17</td>\n",
       "    </tr>\n",
       "    <tr>\n",
       "      <th>tue</th>\n",
       "      <td>10</td>\n",
       "      <td>16</td>\n",
       "      <td>2</td>\n",
       "    </tr>\n",
       "    <tr>\n",
       "      <th>wed</th>\n",
       "      <td>10</td>\n",
       "      <td>4</td>\n",
       "      <td>7</td>\n",
       "    </tr>\n",
       "    <tr>\n",
       "      <th>thu</th>\n",
       "      <td>16</td>\n",
       "      <td>17</td>\n",
       "      <td>9</td>\n",
       "    </tr>\n",
       "    <tr>\n",
       "      <th>fri</th>\n",
       "      <td>15</td>\n",
       "      <td>10</td>\n",
       "      <td>6</td>\n",
       "    </tr>\n",
       "  </tbody>\n",
       "</table>\n",
       "</div>"
      ],
      "text/plain": [
       "     Almonad  peanut  cashew\n",
       "mon        8      10      17\n",
       "tue       10      16       2\n",
       "wed       10       4       7\n",
       "thu       16      17       9\n",
       "fri       15      10       6"
      ]
     },
     "execution_count": 3,
     "metadata": {},
     "output_type": "execute_result"
    }
   ],
   "source": [
    "#Creating dataframe\n",
    "\n",
    "weekly_sales = pd.DataFrame(sales_amount,index = [\"mon\",\"tue\",\"wed\",\"thu\",\"fri\"],\n",
    "                           columns = [\"Almonad\",\"peanut\",\"cashew\"])\n",
    "\n",
    "weekly_sales"
   ]
  },
  {
   "cell_type": "code",
   "execution_count": 4,
   "id": "96fecf49",
   "metadata": {
    "execution": {
     "iopub.execute_input": "2025-05-18T05:18:33.350530Z",
     "iopub.status.busy": "2025-05-18T05:18:33.350140Z",
     "iopub.status.idle": "2025-05-18T05:18:33.358769Z",
     "shell.execute_reply": "2025-05-18T05:18:33.357593Z"
    },
    "papermill": {
     "duration": 0.015994,
     "end_time": "2025-05-18T05:18:33.360606",
     "exception": false,
     "start_time": "2025-05-18T05:18:33.344612",
     "status": "completed"
    },
    "tags": []
   },
   "outputs": [],
   "source": [
    "weekly_sales.columns = weekly_sales.columns.str.capitalize()\n",
    "weekly_sales.index = weekly_sales.index.str.capitalize()"
   ]
  },
  {
   "cell_type": "code",
   "execution_count": 5,
   "id": "a2d2750c",
   "metadata": {
    "execution": {
     "iopub.execute_input": "2025-05-18T05:18:33.370323Z",
     "iopub.status.busy": "2025-05-18T05:18:33.369966Z",
     "iopub.status.idle": "2025-05-18T05:18:33.380191Z",
     "shell.execute_reply": "2025-05-18T05:18:33.379118Z"
    },
    "papermill": {
     "duration": 0.017455,
     "end_time": "2025-05-18T05:18:33.382217",
     "exception": false,
     "start_time": "2025-05-18T05:18:33.364762",
     "status": "completed"
    },
    "tags": []
   },
   "outputs": [
    {
     "data": {
      "text/html": [
       "<div>\n",
       "<style scoped>\n",
       "    .dataframe tbody tr th:only-of-type {\n",
       "        vertical-align: middle;\n",
       "    }\n",
       "\n",
       "    .dataframe tbody tr th {\n",
       "        vertical-align: top;\n",
       "    }\n",
       "\n",
       "    .dataframe thead th {\n",
       "        text-align: right;\n",
       "    }\n",
       "</style>\n",
       "<table border=\"1\" class=\"dataframe\">\n",
       "  <thead>\n",
       "    <tr style=\"text-align: right;\">\n",
       "      <th></th>\n",
       "      <th>Almonad</th>\n",
       "      <th>Peanut</th>\n",
       "      <th>Cashew</th>\n",
       "    </tr>\n",
       "  </thead>\n",
       "  <tbody>\n",
       "    <tr>\n",
       "      <th>Mon</th>\n",
       "      <td>8</td>\n",
       "      <td>10</td>\n",
       "      <td>17</td>\n",
       "    </tr>\n",
       "    <tr>\n",
       "      <th>Tue</th>\n",
       "      <td>10</td>\n",
       "      <td>16</td>\n",
       "      <td>2</td>\n",
       "    </tr>\n",
       "    <tr>\n",
       "      <th>Wed</th>\n",
       "      <td>10</td>\n",
       "      <td>4</td>\n",
       "      <td>7</td>\n",
       "    </tr>\n",
       "    <tr>\n",
       "      <th>Thu</th>\n",
       "      <td>16</td>\n",
       "      <td>17</td>\n",
       "      <td>9</td>\n",
       "    </tr>\n",
       "    <tr>\n",
       "      <th>Fri</th>\n",
       "      <td>15</td>\n",
       "      <td>10</td>\n",
       "      <td>6</td>\n",
       "    </tr>\n",
       "  </tbody>\n",
       "</table>\n",
       "</div>"
      ],
      "text/plain": [
       "     Almonad  Peanut  Cashew\n",
       "Mon        8      10      17\n",
       "Tue       10      16       2\n",
       "Wed       10       4       7\n",
       "Thu       16      17       9\n",
       "Fri       15      10       6"
      ]
     },
     "execution_count": 5,
     "metadata": {},
     "output_type": "execute_result"
    }
   ],
   "source": [
    "weekly_sales"
   ]
  },
  {
   "cell_type": "code",
   "execution_count": 6,
   "id": "46f1ef8c",
   "metadata": {
    "execution": {
     "iopub.execute_input": "2025-05-18T05:18:33.392456Z",
     "iopub.status.busy": "2025-05-18T05:18:33.391449Z",
     "iopub.status.idle": "2025-05-18T05:18:33.399136Z",
     "shell.execute_reply": "2025-05-18T05:18:33.398031Z"
    },
    "papermill": {
     "duration": 0.014422,
     "end_time": "2025-05-18T05:18:33.401012",
     "exception": false,
     "start_time": "2025-05-18T05:18:33.386590",
     "status": "completed"
    },
    "tags": []
   },
   "outputs": [
    {
     "data": {
      "text/plain": [
       "array([10,  9, 12])"
      ]
     },
     "execution_count": 6,
     "metadata": {},
     "output_type": "execute_result"
    }
   ],
   "source": [
    "prices = np.array([10,9,12])\n",
    "prices"
   ]
  },
  {
   "cell_type": "code",
   "execution_count": 7,
   "id": "eec30a76",
   "metadata": {
    "execution": {
     "iopub.execute_input": "2025-05-18T05:18:33.411663Z",
     "iopub.status.busy": "2025-05-18T05:18:33.411307Z",
     "iopub.status.idle": "2025-05-18T05:18:33.416375Z",
     "shell.execute_reply": "2025-05-18T05:18:33.415594Z"
    },
    "papermill": {
     "duration": 0.012144,
     "end_time": "2025-05-18T05:18:33.418043",
     "exception": false,
     "start_time": "2025-05-18T05:18:33.405899",
     "status": "completed"
    },
    "tags": []
   },
   "outputs": [],
   "source": [
    "butter_prices = pd.DataFrame(prices.reshape(1,3),index = [\"Prices\"],\n",
    "                           columns = [\"Almonad\",\"peanut\",\"cashew\"])"
   ]
  },
  {
   "cell_type": "code",
   "execution_count": 8,
   "id": "8efd7ddf",
   "metadata": {
    "execution": {
     "iopub.execute_input": "2025-05-18T05:18:33.427257Z",
     "iopub.status.busy": "2025-05-18T05:18:33.426952Z",
     "iopub.status.idle": "2025-05-18T05:18:33.435456Z",
     "shell.execute_reply": "2025-05-18T05:18:33.434587Z"
    },
    "papermill": {
     "duration": 0.014788,
     "end_time": "2025-05-18T05:18:33.436907",
     "exception": false,
     "start_time": "2025-05-18T05:18:33.422119",
     "status": "completed"
    },
    "tags": []
   },
   "outputs": [
    {
     "data": {
      "text/html": [
       "<div>\n",
       "<style scoped>\n",
       "    .dataframe tbody tr th:only-of-type {\n",
       "        vertical-align: middle;\n",
       "    }\n",
       "\n",
       "    .dataframe tbody tr th {\n",
       "        vertical-align: top;\n",
       "    }\n",
       "\n",
       "    .dataframe thead th {\n",
       "        text-align: right;\n",
       "    }\n",
       "</style>\n",
       "<table border=\"1\" class=\"dataframe\">\n",
       "  <thead>\n",
       "    <tr style=\"text-align: right;\">\n",
       "      <th></th>\n",
       "      <th>Almonad</th>\n",
       "      <th>peanut</th>\n",
       "      <th>cashew</th>\n",
       "    </tr>\n",
       "  </thead>\n",
       "  <tbody>\n",
       "    <tr>\n",
       "      <th>Prices</th>\n",
       "      <td>10</td>\n",
       "      <td>9</td>\n",
       "      <td>12</td>\n",
       "    </tr>\n",
       "  </tbody>\n",
       "</table>\n",
       "</div>"
      ],
      "text/plain": [
       "        Almonad  peanut  cashew\n",
       "Prices       10       9      12"
      ]
     },
     "execution_count": 8,
     "metadata": {},
     "output_type": "execute_result"
    }
   ],
   "source": [
    "butter_prices"
   ]
  },
  {
   "cell_type": "code",
   "execution_count": 9,
   "id": "8d8abe3b",
   "metadata": {
    "execution": {
     "iopub.execute_input": "2025-05-18T05:18:33.446576Z",
     "iopub.status.busy": "2025-05-18T05:18:33.446227Z",
     "iopub.status.idle": "2025-05-18T05:18:33.452635Z",
     "shell.execute_reply": "2025-05-18T05:18:33.451606Z"
    },
    "papermill": {
     "duration": 0.013167,
     "end_time": "2025-05-18T05:18:33.454178",
     "exception": false,
     "start_time": "2025-05-18T05:18:33.441011",
     "status": "completed"
    },
    "tags": []
   },
   "outputs": [
    {
     "data": {
      "text/plain": [
       "(5, 3)"
      ]
     },
     "execution_count": 9,
     "metadata": {},
     "output_type": "execute_result"
    }
   ],
   "source": [
    "weekly_sales.shape"
   ]
  },
  {
   "cell_type": "code",
   "execution_count": 10,
   "id": "a93b43e2",
   "metadata": {
    "execution": {
     "iopub.execute_input": "2025-05-18T05:18:33.463988Z",
     "iopub.status.busy": "2025-05-18T05:18:33.463688Z",
     "iopub.status.idle": "2025-05-18T05:18:33.469642Z",
     "shell.execute_reply": "2025-05-18T05:18:33.468876Z"
    },
    "papermill": {
     "duration": 0.012729,
     "end_time": "2025-05-18T05:18:33.471169",
     "exception": false,
     "start_time": "2025-05-18T05:18:33.458440",
     "status": "completed"
    },
    "tags": []
   },
   "outputs": [
    {
     "data": {
      "text/plain": [
       "(1, 3)"
      ]
     },
     "execution_count": 10,
     "metadata": {},
     "output_type": "execute_result"
    }
   ],
   "source": [
    "butter_prices.shape"
   ]
  },
  {
   "cell_type": "code",
   "execution_count": 11,
   "id": "4f7dbf3b",
   "metadata": {
    "execution": {
     "iopub.execute_input": "2025-05-18T05:18:33.482201Z",
     "iopub.status.busy": "2025-05-18T05:18:33.481889Z",
     "iopub.status.idle": "2025-05-18T05:18:33.487169Z",
     "shell.execute_reply": "2025-05-18T05:18:33.486218Z"
    },
    "papermill": {
     "duration": 0.012933,
     "end_time": "2025-05-18T05:18:33.488974",
     "exception": false,
     "start_time": "2025-05-18T05:18:33.476041",
     "status": "completed"
    },
    "tags": []
   },
   "outputs": [],
   "source": [
    "total = np.dot(weekly_sales,butter_prices.T)"
   ]
  },
  {
   "cell_type": "code",
   "execution_count": 12,
   "id": "4a0d8712",
   "metadata": {
    "execution": {
     "iopub.execute_input": "2025-05-18T05:18:33.499444Z",
     "iopub.status.busy": "2025-05-18T05:18:33.499109Z",
     "iopub.status.idle": "2025-05-18T05:18:33.505762Z",
     "shell.execute_reply": "2025-05-18T05:18:33.504720Z"
    },
    "papermill": {
     "duration": 0.013774,
     "end_time": "2025-05-18T05:18:33.507433",
     "exception": false,
     "start_time": "2025-05-18T05:18:33.493659",
     "status": "completed"
    },
    "tags": []
   },
   "outputs": [
    {
     "data": {
      "text/plain": [
       "array([[374],\n",
       "       [268],\n",
       "       [220],\n",
       "       [421],\n",
       "       [312]])"
      ]
     },
     "execution_count": 12,
     "metadata": {},
     "output_type": "execute_result"
    }
   ],
   "source": [
    "total"
   ]
  },
  {
   "cell_type": "code",
   "execution_count": 13,
   "id": "44ef92bf",
   "metadata": {
    "execution": {
     "iopub.execute_input": "2025-05-18T05:18:33.517905Z",
     "iopub.status.busy": "2025-05-18T05:18:33.517572Z",
     "iopub.status.idle": "2025-05-18T05:18:33.522100Z",
     "shell.execute_reply": "2025-05-18T05:18:33.521198Z"
    },
    "papermill": {
     "duration": 0.011473,
     "end_time": "2025-05-18T05:18:33.523643",
     "exception": false,
     "start_time": "2025-05-18T05:18:33.512170",
     "status": "completed"
    },
    "tags": []
   },
   "outputs": [],
   "source": [
    "total_cost=np.sum(total)"
   ]
  },
  {
   "cell_type": "code",
   "execution_count": 14,
   "id": "0a5ce7a4",
   "metadata": {
    "execution": {
     "iopub.execute_input": "2025-05-18T05:18:33.533468Z",
     "iopub.status.busy": "2025-05-18T05:18:33.533170Z",
     "iopub.status.idle": "2025-05-18T05:18:33.539220Z",
     "shell.execute_reply": "2025-05-18T05:18:33.538188Z"
    },
    "papermill": {
     "duration": 0.012945,
     "end_time": "2025-05-18T05:18:33.540950",
     "exception": false,
     "start_time": "2025-05-18T05:18:33.528005",
     "status": "completed"
    },
    "tags": []
   },
   "outputs": [
    {
     "data": {
      "text/plain": [
       "1595"
      ]
     },
     "execution_count": 14,
     "metadata": {},
     "output_type": "execute_result"
    }
   ],
   "source": [
    "total_cost"
   ]
  },
  {
   "cell_type": "code",
   "execution_count": 15,
   "id": "185ea016",
   "metadata": {
    "execution": {
     "iopub.execute_input": "2025-05-18T05:18:33.551651Z",
     "iopub.status.busy": "2025-05-18T05:18:33.551272Z",
     "iopub.status.idle": "2025-05-18T05:18:33.558687Z",
     "shell.execute_reply": "2025-05-18T05:18:33.557726Z"
    },
    "papermill": {
     "duration": 0.015379,
     "end_time": "2025-05-18T05:18:33.560843",
     "exception": false,
     "start_time": "2025-05-18T05:18:33.545464",
     "status": "completed"
    },
    "tags": []
   },
   "outputs": [],
   "source": [
    "weekly_sales[\"Total\"] = total"
   ]
  },
  {
   "cell_type": "code",
   "execution_count": 16,
   "id": "c0871e95",
   "metadata": {
    "execution": {
     "iopub.execute_input": "2025-05-18T05:18:33.571641Z",
     "iopub.status.busy": "2025-05-18T05:18:33.571300Z",
     "iopub.status.idle": "2025-05-18T05:18:33.580859Z",
     "shell.execute_reply": "2025-05-18T05:18:33.579765Z"
    },
    "papermill": {
     "duration": 0.01675,
     "end_time": "2025-05-18T05:18:33.582426",
     "exception": false,
     "start_time": "2025-05-18T05:18:33.565676",
     "status": "completed"
    },
    "tags": []
   },
   "outputs": [
    {
     "data": {
      "text/html": [
       "<div>\n",
       "<style scoped>\n",
       "    .dataframe tbody tr th:only-of-type {\n",
       "        vertical-align: middle;\n",
       "    }\n",
       "\n",
       "    .dataframe tbody tr th {\n",
       "        vertical-align: top;\n",
       "    }\n",
       "\n",
       "    .dataframe thead th {\n",
       "        text-align: right;\n",
       "    }\n",
       "</style>\n",
       "<table border=\"1\" class=\"dataframe\">\n",
       "  <thead>\n",
       "    <tr style=\"text-align: right;\">\n",
       "      <th></th>\n",
       "      <th>Almonad</th>\n",
       "      <th>Peanut</th>\n",
       "      <th>Cashew</th>\n",
       "      <th>Total</th>\n",
       "    </tr>\n",
       "  </thead>\n",
       "  <tbody>\n",
       "    <tr>\n",
       "      <th>Mon</th>\n",
       "      <td>8</td>\n",
       "      <td>10</td>\n",
       "      <td>17</td>\n",
       "      <td>374</td>\n",
       "    </tr>\n",
       "    <tr>\n",
       "      <th>Tue</th>\n",
       "      <td>10</td>\n",
       "      <td>16</td>\n",
       "      <td>2</td>\n",
       "      <td>268</td>\n",
       "    </tr>\n",
       "    <tr>\n",
       "      <th>Wed</th>\n",
       "      <td>10</td>\n",
       "      <td>4</td>\n",
       "      <td>7</td>\n",
       "      <td>220</td>\n",
       "    </tr>\n",
       "    <tr>\n",
       "      <th>Thu</th>\n",
       "      <td>16</td>\n",
       "      <td>17</td>\n",
       "      <td>9</td>\n",
       "      <td>421</td>\n",
       "    </tr>\n",
       "    <tr>\n",
       "      <th>Fri</th>\n",
       "      <td>15</td>\n",
       "      <td>10</td>\n",
       "      <td>6</td>\n",
       "      <td>312</td>\n",
       "    </tr>\n",
       "  </tbody>\n",
       "</table>\n",
       "</div>"
      ],
      "text/plain": [
       "     Almonad  Peanut  Cashew  Total\n",
       "Mon        8      10      17    374\n",
       "Tue       10      16       2    268\n",
       "Wed       10       4       7    220\n",
       "Thu       16      17       9    421\n",
       "Fri       15      10       6    312"
      ]
     },
     "execution_count": 16,
     "metadata": {},
     "output_type": "execute_result"
    }
   ],
   "source": [
    "weekly_sales"
   ]
  },
  {
   "cell_type": "code",
   "execution_count": null,
   "id": "ca17ebce",
   "metadata": {
    "papermill": {
     "duration": 0.004045,
     "end_time": "2025-05-18T05:18:33.591143",
     "exception": false,
     "start_time": "2025-05-18T05:18:33.587098",
     "status": "completed"
    },
    "tags": []
   },
   "outputs": [],
   "source": []
  }
 ],
 "metadata": {
  "kaggle": {
   "accelerator": "none",
   "dataSources": [],
   "dockerImageVersionId": 31012,
   "isGpuEnabled": false,
   "isInternetEnabled": true,
   "language": "python",
   "sourceType": "notebook"
  },
  "kernelspec": {
   "display_name": "Python 3",
   "language": "python",
   "name": "python3"
  },
  "language_info": {
   "codemirror_mode": {
    "name": "ipython",
    "version": 3
   },
   "file_extension": ".py",
   "mimetype": "text/x-python",
   "name": "python",
   "nbconvert_exporter": "python",
   "pygments_lexer": "ipython3",
   "version": "3.11.11"
  },
  "papermill": {
   "default_parameters": {},
   "duration": 8.955726,
   "end_time": "2025-05-18T05:18:34.216071",
   "environment_variables": {},
   "exception": null,
   "input_path": "__notebook__.ipynb",
   "output_path": "__notebook__.ipynb",
   "parameters": {},
   "start_time": "2025-05-18T05:18:25.260345",
   "version": "2.6.0"
  }
 },
 "nbformat": 4,
 "nbformat_minor": 5
}
