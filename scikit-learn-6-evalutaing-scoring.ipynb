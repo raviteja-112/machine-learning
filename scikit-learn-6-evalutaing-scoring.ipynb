{
 "cells": [
  {
   "cell_type": "code",
   "execution_count": 1,
   "id": "8e7e0b34",
   "metadata": {
    "_cell_guid": "b1076dfc-b9ad-4769-8c92-a6c4dae69d19",
    "_uuid": "8f2839f25d086af736a60e9eeb907d3b93b6e0e5",
    "execution": {
     "iopub.execute_input": "2025-06-26T17:57:54.772781Z",
     "iopub.status.busy": "2025-06-26T17:57:54.772415Z",
     "iopub.status.idle": "2025-06-26T17:57:56.709783Z",
     "shell.execute_reply": "2025-06-26T17:57:56.709029Z"
    },
    "papermill": {
     "duration": 1.946426,
     "end_time": "2025-06-26T17:57:56.711453",
     "exception": false,
     "start_time": "2025-06-26T17:57:54.765027",
     "status": "completed"
    },
    "tags": []
   },
   "outputs": [],
   "source": [
    "# This Python 3 environment comes with many helpful analytics libraries installed\n",
    "# It is defined by the kaggle/python Docker image: https://github.com/kaggle/docker-python\n",
    "# For example, here's several helpful packages to load\n",
    "\n",
    "import numpy as np # linear algebra\n",
    "import pandas as pd # data processing, CSV file I/O (e.g. pd.read_csv)\n",
    "\n",
    "# Input data files are available in the read-only \"../input/\" directory\n",
    "# For example, running this (by clicking run or pressing Shift+Enter) will list all files under the input directory\n",
    "\n",
    "import os\n",
    "for dirname, _, filenames in os.walk('/kaggle/input'):\n",
    "    for filename in filenames:\n",
    "        print(os.path.join(dirname, filename))\n",
    "\n",
    "# You can write up to 20GB to the current directory (/kaggle/working/) that gets preserved as output when you create a version using \"Save & Run All\" \n",
    "# You can also write temporary files to /kaggle/temp/, but they won't be saved outside of the current session"
   ]
  },
  {
   "cell_type": "code",
   "execution_count": 2,
   "id": "100a6efe",
   "metadata": {
    "execution": {
     "iopub.execute_input": "2025-06-26T17:57:56.724012Z",
     "iopub.status.busy": "2025-06-26T17:57:56.723587Z",
     "iopub.status.idle": "2025-06-26T17:57:56.934116Z",
     "shell.execute_reply": "2025-06-26T17:57:56.933090Z"
    },
    "papermill": {
     "duration": 0.218964,
     "end_time": "2025-06-26T17:57:56.935932",
     "exception": false,
     "start_time": "2025-06-26T17:57:56.716968",
     "status": "completed"
    },
    "tags": []
   },
   "outputs": [
    {
     "data": {
      "text/html": [
       "<div>\n",
       "<style scoped>\n",
       "    .dataframe tbody tr th:only-of-type {\n",
       "        vertical-align: middle;\n",
       "    }\n",
       "\n",
       "    .dataframe tbody tr th {\n",
       "        vertical-align: top;\n",
       "    }\n",
       "\n",
       "    .dataframe thead th {\n",
       "        text-align: right;\n",
       "    }\n",
       "</style>\n",
       "<table border=\"1\" class=\"dataframe\">\n",
       "  <thead>\n",
       "    <tr style=\"text-align: right;\">\n",
       "      <th></th>\n",
       "      <th>age</th>\n",
       "      <th>sex</th>\n",
       "      <th>cp</th>\n",
       "      <th>trestbps</th>\n",
       "      <th>chol</th>\n",
       "      <th>fbs</th>\n",
       "      <th>restecg</th>\n",
       "      <th>thalach</th>\n",
       "      <th>exang</th>\n",
       "      <th>oldpeak</th>\n",
       "      <th>slope</th>\n",
       "      <th>ca</th>\n",
       "      <th>thal</th>\n",
       "      <th>target</th>\n",
       "    </tr>\n",
       "  </thead>\n",
       "  <tbody>\n",
       "    <tr>\n",
       "      <th>0</th>\n",
       "      <td>63</td>\n",
       "      <td>1</td>\n",
       "      <td>3</td>\n",
       "      <td>145</td>\n",
       "      <td>233</td>\n",
       "      <td>1</td>\n",
       "      <td>0</td>\n",
       "      <td>150</td>\n",
       "      <td>0</td>\n",
       "      <td>2.3</td>\n",
       "      <td>0</td>\n",
       "      <td>0</td>\n",
       "      <td>1</td>\n",
       "      <td>1</td>\n",
       "    </tr>\n",
       "    <tr>\n",
       "      <th>1</th>\n",
       "      <td>37</td>\n",
       "      <td>1</td>\n",
       "      <td>2</td>\n",
       "      <td>130</td>\n",
       "      <td>250</td>\n",
       "      <td>0</td>\n",
       "      <td>1</td>\n",
       "      <td>187</td>\n",
       "      <td>0</td>\n",
       "      <td>3.5</td>\n",
       "      <td>0</td>\n",
       "      <td>0</td>\n",
       "      <td>2</td>\n",
       "      <td>1</td>\n",
       "    </tr>\n",
       "    <tr>\n",
       "      <th>2</th>\n",
       "      <td>41</td>\n",
       "      <td>0</td>\n",
       "      <td>1</td>\n",
       "      <td>130</td>\n",
       "      <td>204</td>\n",
       "      <td>0</td>\n",
       "      <td>0</td>\n",
       "      <td>172</td>\n",
       "      <td>0</td>\n",
       "      <td>1.4</td>\n",
       "      <td>2</td>\n",
       "      <td>0</td>\n",
       "      <td>2</td>\n",
       "      <td>1</td>\n",
       "    </tr>\n",
       "    <tr>\n",
       "      <th>3</th>\n",
       "      <td>56</td>\n",
       "      <td>1</td>\n",
       "      <td>1</td>\n",
       "      <td>120</td>\n",
       "      <td>236</td>\n",
       "      <td>0</td>\n",
       "      <td>1</td>\n",
       "      <td>178</td>\n",
       "      <td>0</td>\n",
       "      <td>0.8</td>\n",
       "      <td>2</td>\n",
       "      <td>0</td>\n",
       "      <td>2</td>\n",
       "      <td>1</td>\n",
       "    </tr>\n",
       "    <tr>\n",
       "      <th>4</th>\n",
       "      <td>57</td>\n",
       "      <td>0</td>\n",
       "      <td>0</td>\n",
       "      <td>120</td>\n",
       "      <td>354</td>\n",
       "      <td>0</td>\n",
       "      <td>1</td>\n",
       "      <td>163</td>\n",
       "      <td>1</td>\n",
       "      <td>0.6</td>\n",
       "      <td>2</td>\n",
       "      <td>0</td>\n",
       "      <td>2</td>\n",
       "      <td>1</td>\n",
       "    </tr>\n",
       "  </tbody>\n",
       "</table>\n",
       "</div>"
      ],
      "text/plain": [
       "   age  sex  cp  trestbps  chol  fbs  restecg  thalach  exang  oldpeak  slope  \\\n",
       "0   63    1   3       145   233    1        0      150      0      2.3      0   \n",
       "1   37    1   2       130   250    0        1      187      0      3.5      0   \n",
       "2   41    0   1       130   204    0        0      172      0      1.4      2   \n",
       "3   56    1   1       120   236    0        1      178      0      0.8      2   \n",
       "4   57    0   0       120   354    0        1      163      1      0.6      2   \n",
       "\n",
       "   ca  thal  target  \n",
       "0   0     1       1  \n",
       "1   0     2       1  \n",
       "2   0     2       1  \n",
       "3   0     2       1  \n",
       "4   0     2       1  "
      ]
     },
     "execution_count": 2,
     "metadata": {},
     "output_type": "execute_result"
    }
   ],
   "source": [
    "heart_disease = pd.read_csv(\"https://raw.githubusercontent.com/mrdbourke/zero-to-mastery-ml/master/data/heart-disease.csv\") # load directly from URL (source: https://github.com/mrdbourke/zero-to-mastery-ml/blob/master/data/heart-disease.csv)\n",
    "heart_disease.head()"
   ]
  },
  {
   "cell_type": "code",
   "execution_count": 3,
   "id": "1ee60d47",
   "metadata": {
    "execution": {
     "iopub.execute_input": "2025-06-26T17:57:56.950900Z",
     "iopub.status.busy": "2025-06-26T17:57:56.950525Z",
     "iopub.status.idle": "2025-06-26T17:57:59.297177Z",
     "shell.execute_reply": "2025-06-26T17:57:59.296058Z"
    },
    "papermill": {
     "duration": 2.357104,
     "end_time": "2025-06-26T17:57:59.299009",
     "exception": false,
     "start_time": "2025-06-26T17:57:56.941905",
     "status": "completed"
    },
    "tags": []
   },
   "outputs": [],
   "source": [
    "\n",
    "# Import cross_val_score from the model_selection module\n",
    "from sklearn.model_selection import cross_val_score,train_test_split\n",
    "\n",
    "# Import the RandomForestClassifier model class from the ensemble module\n",
    "from sklearn.ensemble import RandomForestClassifier\n",
    "\n",
    "# Setup random seed\n",
    "np.random.seed(42)\n",
    "\n",
    "# Split the data into X (features/data) and y (target/labels)\n",
    "X = heart_disease.drop(\"target\", axis=1)\n",
    "y = heart_disease[\"target\"]\n",
    "\n",
    "# Split into train and test sets\n",
    "X_train, X_test, y_train, y_test = train_test_split(X, y, test_size=0.2)\n",
    "\n",
    "# Instantiate the model (on the training set)\n",
    "clf = RandomForestClassifier(n_estimators=100)\n",
    "\n",
    "# Call the fit method on the model and pass it training data\n",
    "clf.fit(X_train, y_train);\n"
   ]
  },
  {
   "cell_type": "code",
   "execution_count": 4,
   "id": "4237d87c",
   "metadata": {
    "execution": {
     "iopub.execute_input": "2025-06-26T17:57:59.311565Z",
     "iopub.status.busy": "2025-06-26T17:57:59.311063Z",
     "iopub.status.idle": "2025-06-26T17:57:59.329051Z",
     "shell.execute_reply": "2025-06-26T17:57:59.328193Z"
    },
    "papermill": {
     "duration": 0.026252,
     "end_time": "2025-06-26T17:57:59.330812",
     "exception": false,
     "start_time": "2025-06-26T17:57:59.304560",
     "status": "completed"
    },
    "tags": []
   },
   "outputs": [
    {
     "data": {
      "text/plain": [
       "0.8524590163934426"
      ]
     },
     "execution_count": 4,
     "metadata": {},
     "output_type": "execute_result"
    }
   ],
   "source": [
    "# Using score()\n",
    "clf.score(X_test, y_test)"
   ]
  },
  {
   "cell_type": "code",
   "execution_count": 5,
   "id": "e7fb17d1",
   "metadata": {
    "execution": {
     "iopub.execute_input": "2025-06-26T17:57:59.343799Z",
     "iopub.status.busy": "2025-06-26T17:57:59.343442Z",
     "iopub.status.idle": "2025-06-26T17:58:00.117315Z",
     "shell.execute_reply": "2025-06-26T17:58:00.116464Z"
    },
    "papermill": {
     "duration": 0.782138,
     "end_time": "2025-06-26T17:58:00.118914",
     "exception": false,
     "start_time": "2025-06-26T17:57:59.336776",
     "status": "completed"
    },
    "tags": []
   },
   "outputs": [
    {
     "data": {
      "text/plain": [
       "array([0.81967213, 0.86885246, 0.81967213, 0.78333333, 0.76666667])"
      ]
     },
     "execution_count": 5,
     "metadata": {},
     "output_type": "execute_result"
    }
   ],
   "source": [
    "\n",
    "# Using cross_val_score()\n",
    "cross_val_score(clf, X, y, cv=5) # cv = number of splits to test (5 by default)"
   ]
  },
  {
   "cell_type": "code",
   "execution_count": 6,
   "id": "e48fa670",
   "metadata": {
    "execution": {
     "iopub.execute_input": "2025-06-26T17:58:00.132401Z",
     "iopub.status.busy": "2025-06-26T17:58:00.131599Z",
     "iopub.status.idle": "2025-06-26T17:58:00.899885Z",
     "shell.execute_reply": "2025-06-26T17:58:00.899059Z"
    },
    "papermill": {
     "duration": 0.777037,
     "end_time": "2025-06-26T17:58:00.901635",
     "exception": false,
     "start_time": "2025-06-26T17:58:00.124598",
     "status": "completed"
    },
    "tags": []
   },
   "outputs": [
    {
     "data": {
      "text/plain": [
       "(0.8524590163934426, 0.8248087431693989)"
      ]
     },
     "execution_count": 6,
     "metadata": {},
     "output_type": "execute_result"
    }
   ],
   "source": [
    "np.random.seed(42)\n",
    "\n",
    "# Single training and test split score\n",
    "clf_single_score = clf.score(X_test, y_test)\n",
    "\n",
    "# Take mean of 5-fold cross-validation\n",
    "clf_cross_val_score = np.mean(cross_val_score(clf, X, y, cv=5))\n",
    "\n",
    "clf_single_score, clf_cross_val_score"
   ]
  },
  {
   "cell_type": "code",
   "execution_count": 7,
   "id": "8677aa2d",
   "metadata": {
    "execution": {
     "iopub.execute_input": "2025-06-26T17:58:00.915155Z",
     "iopub.status.busy": "2025-06-26T17:58:00.914849Z",
     "iopub.status.idle": "2025-06-26T17:58:01.688160Z",
     "shell.execute_reply": "2025-06-26T17:58:01.687255Z"
    },
    "papermill": {
     "duration": 0.781944,
     "end_time": "2025-06-26T17:58:01.689486",
     "exception": false,
     "start_time": "2025-06-26T17:58:00.907542",
     "status": "completed"
    },
    "tags": []
   },
   "outputs": [
    {
     "data": {
      "text/plain": [
       "array([0.78688525, 0.86885246, 0.80327869, 0.78333333, 0.76666667])"
      ]
     },
     "execution_count": 7,
     "metadata": {},
     "output_type": "execute_result"
    }
   ],
   "source": [
    "cross_val_score(clf, X, y, cv=5, scoring=None) # default scoring value, this can be set to other scoring metrics\n",
    "\n",
    "#for classification -> accuracy\n",
    "#for regression -> coefficient of determination"
   ]
  },
  {
   "cell_type": "markdown",
   "id": "dcf11324",
   "metadata": {
    "papermill": {
     "duration": 0.00533,
     "end_time": "2025-06-26T17:58:01.700747",
     "exception": false,
     "start_time": "2025-06-26T17:58:01.695417",
     "status": "completed"
    },
    "tags": []
   },
   "source": [
    "## Accuracy"
   ]
  },
  {
   "cell_type": "code",
   "execution_count": 8,
   "id": "0ccae86b",
   "metadata": {
    "execution": {
     "iopub.execute_input": "2025-06-26T17:58:01.713219Z",
     "iopub.status.busy": "2025-06-26T17:58:01.712494Z",
     "iopub.status.idle": "2025-06-26T17:58:01.726296Z",
     "shell.execute_reply": "2025-06-26T17:58:01.725066Z"
    },
    "papermill": {
     "duration": 0.021785,
     "end_time": "2025-06-26T17:58:01.727974",
     "exception": false,
     "start_time": "2025-06-26T17:58:01.706189",
     "status": "completed"
    },
    "tags": []
   },
   "outputs": [
    {
     "name": "stdout",
     "output_type": "stream",
     "text": [
      "Heart Disease Classifier Accuracy: 85.25%\n"
     ]
    }
   ],
   "source": [
    "print(f\"Heart Disease Classifier Accuracy: {clf.score(X_test, y_test) * 100:.2f}%\")"
   ]
  },
  {
   "cell_type": "markdown",
   "id": "58b1dd30",
   "metadata": {
    "papermill": {
     "duration": 0.005391,
     "end_time": "2025-06-26T17:58:01.739250",
     "exception": false,
     "start_time": "2025-06-26T17:58:01.733859",
     "status": "completed"
    },
    "tags": []
   },
   "source": [
    "## ROC curve or Area under the curve"
   ]
  },
  {
   "cell_type": "code",
   "execution_count": 9,
   "id": "ef69332b",
   "metadata": {
    "execution": {
     "iopub.execute_input": "2025-06-26T17:58:01.751663Z",
     "iopub.status.busy": "2025-06-26T17:58:01.751342Z",
     "iopub.status.idle": "2025-06-26T17:58:01.766378Z",
     "shell.execute_reply": "2025-06-26T17:58:01.765612Z"
    },
    "papermill": {
     "duration": 0.02305,
     "end_time": "2025-06-26T17:58:01.767787",
     "exception": false,
     "start_time": "2025-06-26T17:58:01.744737",
     "status": "completed"
    },
    "tags": []
   },
   "outputs": [
    {
     "data": {
      "text/plain": [
       "array([0.        , 0.        , 0.        , 0.        , 0.        ,\n",
       "       0.03448276, 0.03448276, 0.03448276, 0.03448276, 0.06896552,\n",
       "       0.06896552, 0.10344828, 0.13793103, 0.13793103, 0.17241379,\n",
       "       0.17241379, 0.27586207, 0.4137931 , 0.48275862, 0.55172414,\n",
       "       0.65517241, 0.72413793, 0.72413793, 0.82758621, 1.        ])"
      ]
     },
     "execution_count": 9,
     "metadata": {},
     "output_type": "execute_result"
    }
   ],
   "source": [
    "from sklearn.metrics import roc_curve\n",
    "\n",
    "# Make predictions with probabilities\n",
    "y_probs = clf.predict_proba(X_test)\n",
    "\n",
    "# Keep the probabilites of the positive class only\n",
    "y_probs = y_probs[:, 1]\n",
    "\n",
    "# Calculate fpr, tpr and thresholds\n",
    "fpr, tpr, thresholds = roc_curve(y_test, y_probs)\n",
    "\n",
    "# Check the false positive rate\n",
    "fpr"
   ]
  },
  {
   "cell_type": "code",
   "execution_count": 10,
   "id": "388c2111",
   "metadata": {
    "execution": {
     "iopub.execute_input": "2025-06-26T17:58:01.780820Z",
     "iopub.status.busy": "2025-06-26T17:58:01.780148Z",
     "iopub.status.idle": "2025-06-26T17:58:02.079954Z",
     "shell.execute_reply": "2025-06-26T17:58:02.078985Z"
    },
    "papermill": {
     "duration": 0.307949,
     "end_time": "2025-06-26T17:58:02.081616",
     "exception": false,
     "start_time": "2025-06-26T17:58:01.773667",
     "status": "completed"
    },
    "tags": []
   },
   "outputs": [
    {
     "data": {
      "image/png": "[encoded data removed]",
      "text/plain": [
       "<Figure size 640x480 with 1 Axes>"
      ]
     },
     "metadata": {},
     "output_type": "display_data"
    }
   ],
   "source": [
    "\n",
    "import matplotlib.pyplot as plt\n",
    "\n",
    "def plot_roc_curve(fpr, tpr):\n",
    "    \"\"\"\n",
    "    Plots a ROC curve given the false positve rate (fpr) and \n",
    "    true postive rate (tpr) of a classifier.\n",
    "    \"\"\"\n",
    "    # Plot ROC curve\n",
    "    plt.plot(fpr, tpr, color='orange', label='ROC')\n",
    "    # Plot line with no predictive power (baseline)\n",
    "    plt.plot([0, 1], [0, 1], color='darkblue', linestyle='--', label='Guessing')\n",
    "    # Customize the plot\n",
    "    plt.xlabel('False Positive Rate')\n",
    "    plt.ylabel('True Positive Rate')\n",
    "    plt.title('Receiver Operating Characteristic (ROC) Curve')\n",
    "    plt.legend()\n",
    "    plt.show()\n",
    "    \n",
    "plot_roc_curve(fpr, tpr)"
   ]
  },
  {
   "cell_type": "code",
   "execution_count": 11,
   "id": "9280df30",
   "metadata": {
    "execution": {
     "iopub.execute_input": "2025-06-26T17:58:02.095943Z",
     "iopub.status.busy": "2025-06-26T17:58:02.095610Z",
     "iopub.status.idle": "2025-06-26T17:58:02.105843Z",
     "shell.execute_reply": "2025-06-26T17:58:02.105046Z"
    },
    "papermill": {
     "duration": 0.019074,
     "end_time": "2025-06-26T17:58:02.107399",
     "exception": false,
     "start_time": "2025-06-26T17:58:02.088325",
     "status": "completed"
    },
    "tags": []
   },
   "outputs": [
    {
     "data": {
      "text/plain": [
       "0.9304956896551724"
      ]
     },
     "execution_count": 11,
     "metadata": {},
     "output_type": "execute_result"
    }
   ],
   "source": [
    "from sklearn.metrics import roc_auc_score\n",
    "\n",
    "roc_auc_score_value = roc_auc_score(y_test, y_probs)\n",
    "roc_auc_score_value"
   ]
  },
  {
   "cell_type": "code",
   "execution_count": 12,
   "id": "8fabbfdd",
   "metadata": {
    "execution": {
     "iopub.execute_input": "2025-06-26T17:58:02.121708Z",
     "iopub.status.busy": "2025-06-26T17:58:02.121376Z",
     "iopub.status.idle": "2025-06-26T17:58:02.349664Z",
     "shell.execute_reply": "2025-06-26T17:58:02.348717Z"
    },
    "papermill": {
     "duration": 0.237048,
     "end_time": "2025-06-26T17:58:02.351065",
     "exception": false,
     "start_time": "2025-06-26T17:58:02.114017",
     "status": "completed"
    },
    "tags": []
   },
   "outputs": [
    {
     "data": {
      "image/png": "[encoded data removed]",
      "text/plain": [
       "<Figure size 640x480 with 1 Axes>"
      ]
     },
     "metadata": {},
     "output_type": "display_data"
    }
   ],
   "source": [
    "from sklearn.metrics import RocCurveDisplay\n",
    "import matplotlib.pyplot as plt\n",
    "\n",
    "display = RocCurveDisplay(fpr=fpr, tpr=tpr)\n",
    "display.plot()\n",
    "plt.show()"
   ]
  },
  {
   "cell_type": "markdown",
   "id": "4f84cefa",
   "metadata": {
    "papermill": {
     "duration": 0.006556,
     "end_time": "2025-06-26T17:58:02.364570",
     "exception": false,
     "start_time": "2025-06-26T17:58:02.358014",
     "status": "completed"
    },
    "tags": []
   },
   "source": [
    "## Confusion matrix\n"
   ]
  },
  {
   "cell_type": "code",
   "execution_count": 13,
   "id": "736a38bc",
   "metadata": {
    "execution": {
     "iopub.execute_input": "2025-06-26T17:58:02.379539Z",
     "iopub.status.busy": "2025-06-26T17:58:02.379186Z",
     "iopub.status.idle": "2025-06-26T17:58:02.395998Z",
     "shell.execute_reply": "2025-06-26T17:58:02.395084Z"
    },
    "papermill": {
     "duration": 0.026096,
     "end_time": "2025-06-26T17:58:02.397670",
     "exception": false,
     "start_time": "2025-06-26T17:58:02.371574",
     "status": "completed"
    },
    "tags": []
   },
   "outputs": [
    {
     "data": {
      "text/plain": [
       "array([[24,  5],\n",
       "       [ 4, 28]])"
      ]
     },
     "execution_count": 13,
     "metadata": {},
     "output_type": "execute_result"
    }
   ],
   "source": [
    "from sklearn.metrics import confusion_matrix\n",
    "\n",
    "y_preds = clf.predict(X_test)\n",
    "\n",
    "confusion_matrix(y_test, y_preds)"
   ]
  },
  {
   "cell_type": "code",
   "execution_count": 14,
   "id": "5c9766f1",
   "metadata": {
    "execution": {
     "iopub.execute_input": "2025-06-26T17:58:02.413094Z",
     "iopub.status.busy": "2025-06-26T17:58:02.412781Z",
     "iopub.status.idle": "2025-06-26T17:58:02.445841Z",
     "shell.execute_reply": "2025-06-26T17:58:02.445057Z"
    },
    "papermill": {
     "duration": 0.042247,
     "end_time": "2025-06-26T17:58:02.447378",
     "exception": false,
     "start_time": "2025-06-26T17:58:02.405131",
     "status": "completed"
    },
    "tags": []
   },
   "outputs": [
    {
     "data": {
      "text/html": [
       "<div>\n",
       "<style scoped>\n",
       "    .dataframe tbody tr th:only-of-type {\n",
       "        vertical-align: middle;\n",
       "    }\n",
       "\n",
       "    .dataframe tbody tr th {\n",
       "        vertical-align: top;\n",
       "    }\n",
       "\n",
       "    .dataframe thead th {\n",
       "        text-align: right;\n",
       "    }\n",
       "</style>\n",
       "<table border=\"1\" class=\"dataframe\">\n",
       "  <thead>\n",
       "    <tr style=\"text-align: right;\">\n",
       "      <th>Predicted Label</th>\n",
       "      <th>0</th>\n",
       "      <th>1</th>\n",
       "    </tr>\n",
       "    <tr>\n",
       "      <th>Actual Label</th>\n",
       "      <th></th>\n",
       "      <th></th>\n",
       "    </tr>\n",
       "  </thead>\n",
       "  <tbody>\n",
       "    <tr>\n",
       "      <th>0</th>\n",
       "      <td>24</td>\n",
       "      <td>5</td>\n",
       "    </tr>\n",
       "    <tr>\n",
       "      <th>1</th>\n",
       "      <td>4</td>\n",
       "      <td>28</td>\n",
       "    </tr>\n",
       "  </tbody>\n",
       "</table>\n",
       "</div>"
      ],
      "text/plain": [
       "Predicted Label   0   1\n",
       "Actual Label           \n",
       "0                24   5\n",
       "1                 4  28"
      ]
     },
     "execution_count": 14,
     "metadata": {},
     "output_type": "execute_result"
    }
   ],
   "source": [
    "pd.crosstab(y_test, \n",
    "            y_preds, \n",
    "            rownames=[\"Actual Label\"], \n",
    "            colnames=[\"Predicted Label\"])"
   ]
  },
  {
   "cell_type": "code",
   "execution_count": 15,
   "id": "d54ac2a0",
   "metadata": {
    "execution": {
     "iopub.execute_input": "2025-06-26T17:58:02.462804Z",
     "iopub.status.busy": "2025-06-26T17:58:02.462465Z",
     "iopub.status.idle": "2025-06-26T17:58:02.689647Z",
     "shell.execute_reply": "2025-06-26T17:58:02.688750Z"
    },
    "papermill": {
     "duration": 0.23672,
     "end_time": "2025-06-26T17:58:02.691339",
     "exception": false,
     "start_time": "2025-06-26T17:58:02.454619",
     "status": "completed"
    },
    "tags": []
   },
   "outputs": [
    {
     "data": {
      "image/png": "[encoded data removed]",
      "text/plain": [
       "<Figure size 640x480 with 2 Axes>"
      ]
     },
     "metadata": {},
     "output_type": "display_data"
    }
   ],
   "source": [
    "\n",
    "from sklearn.metrics import ConfusionMatrixDisplay\n",
    "\n",
    "ConfusionMatrixDisplay.from_estimator(estimator=clf, X=X, y=y);"
   ]
  },
  {
   "cell_type": "code",
   "execution_count": 16,
   "id": "4dddbb38",
   "metadata": {
    "execution": {
     "iopub.execute_input": "2025-06-26T17:58:02.708065Z",
     "iopub.status.busy": "2025-06-26T17:58:02.707742Z",
     "iopub.status.idle": "2025-06-26T17:58:02.888469Z",
     "shell.execute_reply": "2025-06-26T17:58:02.887561Z"
    },
    "papermill": {
     "duration": 0.19101,
     "end_time": "2025-06-26T17:58:02.890067",
     "exception": false,
     "start_time": "2025-06-26T17:58:02.699057",
     "status": "completed"
    },
    "tags": []
   },
   "outputs": [
    {
     "data": {
      "image/png": "[encoded data removed]",
      "text/plain": [
       "<Figure size 640x480 with 2 Axes>"
      ]
     },
     "metadata": {},
     "output_type": "display_data"
    }
   ],
   "source": [
    "# Plot confusion matrix from predictions\n",
    "ConfusionMatrixDisplay.from_predictions(y_true=y_test, \n",
    "                                        y_pred=y_preds);"
   ]
  },
  {
   "cell_type": "markdown",
   "id": "6a5ddd23",
   "metadata": {
    "papermill": {
     "duration": 0.007487,
     "end_time": "2025-06-26T17:58:02.906698",
     "exception": false,
     "start_time": "2025-06-26T17:58:02.899211",
     "status": "completed"
    },
    "tags": []
   },
   "source": [
    "## Classification Report"
   ]
  },
  {
   "cell_type": "code",
   "execution_count": 17,
   "id": "e2a3aa6b",
   "metadata": {
    "execution": {
     "iopub.execute_input": "2025-06-26T17:58:02.923389Z",
     "iopub.status.busy": "2025-06-26T17:58:02.923049Z",
     "iopub.status.idle": "2025-06-26T17:58:02.936183Z",
     "shell.execute_reply": "2025-06-26T17:58:02.935034Z"
    },
    "papermill": {
     "duration": 0.023251,
     "end_time": "2025-06-26T17:58:02.937676",
     "exception": false,
     "start_time": "2025-06-26T17:58:02.914425",
     "status": "completed"
    },
    "tags": []
   },
   "outputs": [
    {
     "name": "stdout",
     "output_type": "stream",
     "text": [
      "              precision    recall  f1-score   support\n",
      "\n",
      "           0       0.86      0.83      0.84        29\n",
      "           1       0.85      0.88      0.86        32\n",
      "\n",
      "    accuracy                           0.85        61\n",
      "   macro avg       0.85      0.85      0.85        61\n",
      "weighted avg       0.85      0.85      0.85        61\n",
      "\n"
     ]
    }
   ],
   "source": [
    "\n",
    "from sklearn.metrics import classification_report\n",
    "\n",
    "print(classification_report(y_test, y_preds))"
   ]
  },
  {
   "cell_type": "code",
   "execution_count": 18,
   "id": "df48d9c5",
   "metadata": {
    "execution": {
     "iopub.execute_input": "2025-06-26T17:58:02.955235Z",
     "iopub.status.busy": "2025-06-26T17:58:02.954359Z",
     "iopub.status.idle": "2025-06-26T17:58:04.290545Z",
     "shell.execute_reply": "2025-06-26T17:58:04.289693Z"
    },
    "papermill": {
     "duration": 1.346534,
     "end_time": "2025-06-26T17:58:04.292158",
     "exception": false,
     "start_time": "2025-06-26T17:58:02.945624",
     "status": "completed"
    },
    "tags": []
   },
   "outputs": [],
   "source": [
    "from sklearn.datasets import fetch_california_housing\n",
    "housing = fetch_california_housing()\n",
    "housing; # gets downloaded as dictionary"
   ]
  },
  {
   "cell_type": "code",
   "execution_count": 19,
   "id": "55fd2b3a",
   "metadata": {
    "execution": {
     "iopub.execute_input": "2025-06-26T17:58:04.309336Z",
     "iopub.status.busy": "2025-06-26T17:58:04.308631Z",
     "iopub.status.idle": "2025-06-26T17:58:04.323320Z",
     "shell.execute_reply": "2025-06-26T17:58:04.322429Z"
    },
    "papermill": {
     "duration": 0.024737,
     "end_time": "2025-06-26T17:58:04.324725",
     "exception": false,
     "start_time": "2025-06-26T17:58:04.299988",
     "status": "completed"
    },
    "tags": []
   },
   "outputs": [
    {
     "data": {
      "text/html": [
       "<div>\n",
       "<style scoped>\n",
       "    .dataframe tbody tr th:only-of-type {\n",
       "        vertical-align: middle;\n",
       "    }\n",
       "\n",
       "    .dataframe tbody tr th {\n",
       "        vertical-align: top;\n",
       "    }\n",
       "\n",
       "    .dataframe thead th {\n",
       "        text-align: right;\n",
       "    }\n",
       "</style>\n",
       "<table border=\"1\" class=\"dataframe\">\n",
       "  <thead>\n",
       "    <tr style=\"text-align: right;\">\n",
       "      <th></th>\n",
       "      <th>MedInc</th>\n",
       "      <th>HouseAge</th>\n",
       "      <th>AveRooms</th>\n",
       "      <th>AveBedrms</th>\n",
       "      <th>Population</th>\n",
       "      <th>AveOccup</th>\n",
       "      <th>Latitude</th>\n",
       "      <th>Longitude</th>\n",
       "      <th>target</th>\n",
       "    </tr>\n",
       "  </thead>\n",
       "  <tbody>\n",
       "    <tr>\n",
       "      <th>0</th>\n",
       "      <td>8.3252</td>\n",
       "      <td>41.0</td>\n",
       "      <td>6.984127</td>\n",
       "      <td>1.023810</td>\n",
       "      <td>322.0</td>\n",
       "      <td>2.555556</td>\n",
       "      <td>37.88</td>\n",
       "      <td>-122.23</td>\n",
       "      <td>4.526</td>\n",
       "    </tr>\n",
       "    <tr>\n",
       "      <th>1</th>\n",
       "      <td>8.3014</td>\n",
       "      <td>21.0</td>\n",
       "      <td>6.238137</td>\n",
       "      <td>0.971880</td>\n",
       "      <td>2401.0</td>\n",
       "      <td>2.109842</td>\n",
       "      <td>37.86</td>\n",
       "      <td>-122.22</td>\n",
       "      <td>3.585</td>\n",
       "    </tr>\n",
       "    <tr>\n",
       "      <th>2</th>\n",
       "      <td>7.2574</td>\n",
       "      <td>52.0</td>\n",
       "      <td>8.288136</td>\n",
       "      <td>1.073446</td>\n",
       "      <td>496.0</td>\n",
       "      <td>2.802260</td>\n",
       "      <td>37.85</td>\n",
       "      <td>-122.24</td>\n",
       "      <td>3.521</td>\n",
       "    </tr>\n",
       "    <tr>\n",
       "      <th>3</th>\n",
       "      <td>5.6431</td>\n",
       "      <td>52.0</td>\n",
       "      <td>5.817352</td>\n",
       "      <td>1.073059</td>\n",
       "      <td>558.0</td>\n",
       "      <td>2.547945</td>\n",
       "      <td>37.85</td>\n",
       "      <td>-122.25</td>\n",
       "      <td>3.413</td>\n",
       "    </tr>\n",
       "    <tr>\n",
       "      <th>4</th>\n",
       "      <td>3.8462</td>\n",
       "      <td>52.0</td>\n",
       "      <td>6.281853</td>\n",
       "      <td>1.081081</td>\n",
       "      <td>565.0</td>\n",
       "      <td>2.181467</td>\n",
       "      <td>37.85</td>\n",
       "      <td>-122.25</td>\n",
       "      <td>3.422</td>\n",
       "    </tr>\n",
       "  </tbody>\n",
       "</table>\n",
       "</div>"
      ],
      "text/plain": [
       "   MedInc  HouseAge  AveRooms  AveBedrms  Population  AveOccup  Latitude  \\\n",
       "0  8.3252      41.0  6.984127   1.023810       322.0  2.555556     37.88   \n",
       "1  8.3014      21.0  6.238137   0.971880      2401.0  2.109842     37.86   \n",
       "2  7.2574      52.0  8.288136   1.073446       496.0  2.802260     37.85   \n",
       "3  5.6431      52.0  5.817352   1.073059       558.0  2.547945     37.85   \n",
       "4  3.8462      52.0  6.281853   1.081081       565.0  2.181467     37.85   \n",
       "\n",
       "   Longitude  target  \n",
       "0    -122.23   4.526  \n",
       "1    -122.22   3.585  \n",
       "2    -122.24   3.521  \n",
       "3    -122.25   3.413  \n",
       "4    -122.25   3.422  "
      ]
     },
     "execution_count": 19,
     "metadata": {},
     "output_type": "execute_result"
    }
   ],
   "source": [
    "housing_df = pd.DataFrame(housing[\"data\"], columns=housing[\"feature_names\"])\n",
    "housing_df[\"target\"] = pd.Series(housing[\"target\"])\n",
    "housing_df.head()"
   ]
  },
  {
   "cell_type": "code",
   "execution_count": 20,
   "id": "03ee3796",
   "metadata": {
    "execution": {
     "iopub.execute_input": "2025-06-26T17:58:04.342213Z",
     "iopub.status.busy": "2025-06-26T17:58:04.341351Z",
     "iopub.status.idle": "2025-06-26T17:58:17.230446Z",
     "shell.execute_reply": "2025-06-26T17:58:17.229375Z"
    },
    "papermill": {
     "duration": 12.899445,
     "end_time": "2025-06-26T17:58:17.232234",
     "exception": false,
     "start_time": "2025-06-26T17:58:04.332789",
     "status": "completed"
    },
    "tags": []
   },
   "outputs": [],
   "source": [
    "# Import the RandomForestRegressor model class from the ensemble module\n",
    "from sklearn.ensemble import RandomForestRegressor\n",
    "\n",
    "# Setup random seed\n",
    "np.random.seed(42)\n",
    "\n",
    "# Split data into features (X) and labels (y)\n",
    "X = housing_df.drop(\"target\", axis=1)\n",
    "y = housing_df[\"target\"]\n",
    "\n",
    "# Split into train and test sets\n",
    "X_train, X_test, y_train, y_test = train_test_split(X, y, test_size=0.2)\n",
    "\n",
    "# Institate and fit the model (on the training set)\n",
    "model = RandomForestRegressor()\n",
    "model.fit(X_train, y_train);"
   ]
  },
  {
   "cell_type": "markdown",
   "id": "8cb3868b",
   "metadata": {
    "papermill": {
     "duration": 0.007519,
     "end_time": "2025-06-26T17:58:17.247957",
     "exception": false,
     "start_time": "2025-06-26T17:58:17.240438",
     "status": "completed"
    },
    "tags": []
   },
   "source": [
    "## R^2 Score"
   ]
  },
  {
   "cell_type": "code",
   "execution_count": 21,
   "id": "8ff09d76",
   "metadata": {
    "execution": {
     "iopub.execute_input": "2025-06-26T17:58:17.264799Z",
     "iopub.status.busy": "2025-06-26T17:58:17.264435Z",
     "iopub.status.idle": "2025-06-26T17:58:17.408129Z",
     "shell.execute_reply": "2025-06-26T17:58:17.406962Z"
    },
    "papermill": {
     "duration": 0.154295,
     "end_time": "2025-06-26T17:58:17.409934",
     "exception": false,
     "start_time": "2025-06-26T17:58:17.255639",
     "status": "completed"
    },
    "tags": []
   },
   "outputs": [
    {
     "data": {
      "text/plain": [
       "0.8066196804802649"
      ]
     },
     "execution_count": 21,
     "metadata": {},
     "output_type": "execute_result"
    }
   ],
   "source": [
    "# Calculate the models R^2 score\n",
    "model.score(X_test, y_test)"
   ]
  },
  {
   "cell_type": "markdown",
   "id": "9cb8b625",
   "metadata": {
    "papermill": {
     "duration": 0.008681,
     "end_time": "2025-06-26T17:58:17.428041",
     "exception": false,
     "start_time": "2025-06-26T17:58:17.419360",
     "status": "completed"
    },
    "tags": []
   },
   "source": [
    "## Mean Absolute Error (MAE)"
   ]
  },
  {
   "cell_type": "code",
   "execution_count": 22,
   "id": "822795e4",
   "metadata": {
    "execution": {
     "iopub.execute_input": "2025-06-26T17:58:17.447605Z",
     "iopub.status.busy": "2025-06-26T17:58:17.447277Z",
     "iopub.status.idle": "2025-06-26T17:58:17.589250Z",
     "shell.execute_reply": "2025-06-26T17:58:17.588389Z"
    },
    "papermill": {
     "duration": 0.153719,
     "end_time": "2025-06-26T17:58:17.590851",
     "exception": false,
     "start_time": "2025-06-26T17:58:17.437132",
     "status": "completed"
    },
    "tags": []
   },
   "outputs": [
    {
     "data": {
      "text/plain": [
       "0.3265721842781009"
      ]
     },
     "execution_count": 22,
     "metadata": {},
     "output_type": "execute_result"
    }
   ],
   "source": [
    "# Mean absolute error\n",
    "from sklearn.metrics import mean_absolute_error\n",
    "\n",
    "y_preds = model.predict(X_test)\n",
    "mae = mean_absolute_error(y_test, y_preds)\n",
    "mae"
   ]
  },
  {
   "cell_type": "code",
   "execution_count": 23,
   "id": "42303673",
   "metadata": {
    "execution": {
     "iopub.execute_input": "2025-06-26T17:58:17.607950Z",
     "iopub.status.busy": "2025-06-26T17:58:17.607652Z",
     "iopub.status.idle": "2025-06-26T17:58:17.618140Z",
     "shell.execute_reply": "2025-06-26T17:58:17.617302Z"
    },
    "papermill": {
     "duration": 0.0206,
     "end_time": "2025-06-26T17:58:17.619539",
     "exception": false,
     "start_time": "2025-06-26T17:58:17.598939",
     "status": "completed"
    },
    "tags": []
   },
   "outputs": [
    {
     "data": {
      "text/html": [
       "<div>\n",
       "<style scoped>\n",
       "    .dataframe tbody tr th:only-of-type {\n",
       "        vertical-align: middle;\n",
       "    }\n",
       "\n",
       "    .dataframe tbody tr th {\n",
       "        vertical-align: top;\n",
       "    }\n",
       "\n",
       "    .dataframe thead th {\n",
       "        text-align: right;\n",
       "    }\n",
       "</style>\n",
       "<table border=\"1\" class=\"dataframe\">\n",
       "  <thead>\n",
       "    <tr style=\"text-align: right;\">\n",
       "      <th></th>\n",
       "      <th>actual values</th>\n",
       "      <th>predictions</th>\n",
       "    </tr>\n",
       "  </thead>\n",
       "  <tbody>\n",
       "    <tr>\n",
       "      <th>20046</th>\n",
       "      <td>0.47700</td>\n",
       "      <td>0.493840</td>\n",
       "    </tr>\n",
       "    <tr>\n",
       "      <th>3024</th>\n",
       "      <td>0.45800</td>\n",
       "      <td>0.754940</td>\n",
       "    </tr>\n",
       "    <tr>\n",
       "      <th>15663</th>\n",
       "      <td>5.00001</td>\n",
       "      <td>4.928596</td>\n",
       "    </tr>\n",
       "    <tr>\n",
       "      <th>20484</th>\n",
       "      <td>2.18600</td>\n",
       "      <td>2.540290</td>\n",
       "    </tr>\n",
       "    <tr>\n",
       "      <th>9814</th>\n",
       "      <td>2.78000</td>\n",
       "      <td>2.331760</td>\n",
       "    </tr>\n",
       "    <tr>\n",
       "      <th>...</th>\n",
       "      <td>...</td>\n",
       "      <td>...</td>\n",
       "    </tr>\n",
       "    <tr>\n",
       "      <th>15362</th>\n",
       "      <td>2.63300</td>\n",
       "      <td>2.220380</td>\n",
       "    </tr>\n",
       "    <tr>\n",
       "      <th>16623</th>\n",
       "      <td>2.66800</td>\n",
       "      <td>1.947760</td>\n",
       "    </tr>\n",
       "    <tr>\n",
       "      <th>18086</th>\n",
       "      <td>5.00001</td>\n",
       "      <td>4.836378</td>\n",
       "    </tr>\n",
       "    <tr>\n",
       "      <th>2144</th>\n",
       "      <td>0.72300</td>\n",
       "      <td>0.717820</td>\n",
       "    </tr>\n",
       "    <tr>\n",
       "      <th>3665</th>\n",
       "      <td>1.51500</td>\n",
       "      <td>1.679010</td>\n",
       "    </tr>\n",
       "  </tbody>\n",
       "</table>\n",
       "<p>4128 rows × 2 columns</p>\n",
       "</div>"
      ],
      "text/plain": [
       "       actual values  predictions\n",
       "20046        0.47700     0.493840\n",
       "3024         0.45800     0.754940\n",
       "15663        5.00001     4.928596\n",
       "20484        2.18600     2.540290\n",
       "9814         2.78000     2.331760\n",
       "...              ...          ...\n",
       "15362        2.63300     2.220380\n",
       "16623        2.66800     1.947760\n",
       "18086        5.00001     4.836378\n",
       "2144         0.72300     0.717820\n",
       "3665         1.51500     1.679010\n",
       "\n",
       "[4128 rows x 2 columns]"
      ]
     },
     "execution_count": 23,
     "metadata": {},
     "output_type": "execute_result"
    }
   ],
   "source": [
    "df = pd.DataFrame(data={\"actual values\": y_test, \n",
    "                   \"predictions\": y_preds})\n",
    "\n",
    "df"
   ]
  },
  {
   "cell_type": "code",
   "execution_count": 24,
   "id": "5e7985e0",
   "metadata": {
    "execution": {
     "iopub.execute_input": "2025-06-26T17:58:17.637256Z",
     "iopub.status.busy": "2025-06-26T17:58:17.636927Z",
     "iopub.status.idle": "2025-06-26T17:58:17.916466Z",
     "shell.execute_reply": "2025-06-26T17:58:17.915330Z"
    },
    "papermill": {
     "duration": 0.290944,
     "end_time": "2025-06-26T17:58:17.918829",
     "exception": false,
     "start_time": "2025-06-26T17:58:17.627885",
     "status": "completed"
    },
    "tags": []
   },
   "outputs": [
    {
     "data": {
      "image/png": "[encoded data removed]",
      "text/plain": [
       "<Figure size 640x480 with 1 Axes>"
      ]
     },
     "metadata": {},
     "output_type": "display_data"
    }
   ],
   "source": [
    "fig, ax = plt.subplots()\n",
    "x = np.arange(0, len(df), 1)\n",
    "ax.scatter(x, df[\"actual values\"], c='b', label=\"Acutual Values\")\n",
    "ax.scatter(x, df[\"predictions\"], c='r', label=\"Predictions\")\n",
    "ax.legend(loc=(1, 0.5));"
   ]
  },
  {
   "cell_type": "markdown",
   "id": "c9445c7c",
   "metadata": {
    "papermill": {
     "duration": 0.011257,
     "end_time": "2025-06-26T17:58:18.011700",
     "exception": false,
     "start_time": "2025-06-26T17:58:18.000443",
     "status": "completed"
    },
    "tags": []
   },
   "source": [
    "## Mean Squared Error (MSE)"
   ]
  },
  {
   "cell_type": "code",
   "execution_count": 25,
   "id": "bc2a0444",
   "metadata": {
    "execution": {
     "iopub.execute_input": "2025-06-26T17:58:18.034921Z",
     "iopub.status.busy": "2025-06-26T17:58:18.034130Z",
     "iopub.status.idle": "2025-06-26T17:58:18.042848Z",
     "shell.execute_reply": "2025-06-26T17:58:18.041781Z"
    },
    "papermill": {
     "duration": 0.022656,
     "end_time": "2025-06-26T17:58:18.044453",
     "exception": false,
     "start_time": "2025-06-26T17:58:18.021797",
     "status": "completed"
    },
    "tags": []
   },
   "outputs": [
    {
     "data": {
      "text/plain": [
       "0.25340730691375474"
      ]
     },
     "execution_count": 25,
     "metadata": {},
     "output_type": "execute_result"
    }
   ],
   "source": [
    "\n",
    "# Mean squared error\n",
    "from sklearn.metrics import mean_squared_error\n",
    "\n",
    "mse = mean_squared_error(y_test, y_preds)\n",
    "mse"
   ]
  },
  {
   "cell_type": "code",
   "execution_count": null,
   "id": "3ae90924",
   "metadata": {
    "papermill": {
     "duration": 0.010249,
     "end_time": "2025-06-26T17:58:18.065614",
     "exception": false,
     "start_time": "2025-06-26T17:58:18.055365",
     "status": "completed"
    },
    "tags": []
   },
   "outputs": [],
   "source": []
  }
 ],
 "metadata": {
  "kaggle": {
   "accelerator": "none",
   "dataSources": [],
   "dockerImageVersionId": 31012,
   "isGpuEnabled": false,
   "isInternetEnabled": true,
   "language": "python",
   "sourceType": "notebook"
  },
  "kernelspec": {
   "display_name": "Python 3",
   "language": "python",
   "name": "python3"
  },
  "language_info": {
   "codemirror_mode": {
    "name": "ipython",
    "version": 3
   },
   "file_extension": ".py",
   "mimetype": "text/x-python",
   "name": "python",
   "nbconvert_exporter": "python",
   "pygments_lexer": "ipython3",
   "version": "3.11.11"
  },
  "papermill": {
   "default_parameters": {},
   "duration": 29.633303,
   "end_time": "2025-06-26T17:58:18.799602",
   "environment_variables": {},
   "exception": null,
   "input_path": "__notebook__.ipynb",
   "output_path": "__notebook__.ipynb",
   "parameters": {},
   "start_time": "2025-06-26T17:57:49.166299",
   "version": "2.6.0"
  }
 },
 "nbformat": 4,
 "nbformat_minor": 5
}
