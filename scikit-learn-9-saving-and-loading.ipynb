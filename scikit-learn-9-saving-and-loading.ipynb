{
 "cells": [
  {
   "cell_type": "code",
   "execution_count": 1,
   "id": "8db91992",
   "metadata": {
    "_cell_guid": "b1076dfc-b9ad-4769-8c92-a6c4dae69d19",
    "_uuid": "8f2839f25d086af736a60e9eeb907d3b93b6e0e5",
    "execution": {
     "iopub.execute_input": "2025-08-22T12:31:09.373728Z",
     "iopub.status.busy": "2025-08-22T12:31:09.372810Z",
     "iopub.status.idle": "2025-08-22T12:31:11.329413Z",
     "shell.execute_reply": "2025-08-22T12:31:11.328263Z"
    },
    "papermill": {
     "duration": 1.963078,
     "end_time": "2025-08-22T12:31:11.331323",
     "exception": false,
     "start_time": "2025-08-22T12:31:09.368245",
     "status": "completed"
    },
    "tags": []
   },
   "outputs": [],
   "source": [
    "# This Python 3 environment comes with many helpful analytics libraries installed\n",
    "# It is defined by the kaggle/python Docker image: https://github.com/kaggle/docker-python\n",
    "# For example, here's several helpful packages to load\n",
    "\n",
    "import numpy as np # linear algebra\n",
    "import pandas as pd # data processing, CSV file I/O (e.g. pd.read_csv)\n",
    "\n",
    "# Input data files are available in the read-only \"../input/\" directory\n",
    "# For example, running this (by clicking run or pressing Shift+Enter) will list all files under the input directory\n",
    "\n",
    "import os\n",
    "for dirname, _, filenames in os.walk('/kaggle/input'):\n",
    "    for filename in filenames:\n",
    "        print(os.path.join(dirname, filename))\n",
    "\n",
    "# You can write up to 20GB to the current directory (/kaggle/working/) that gets preserved as output when you create a version using \"Save & Run All\" \n",
    "# You can also write temporary files to /kaggle/temp/, but they won't be saved outside of the current session"
   ]
  },
  {
   "cell_type": "code",
   "execution_count": 2,
   "id": "a5552a16",
   "metadata": {
    "execution": {
     "iopub.execute_input": "2025-08-22T12:31:11.338887Z",
     "iopub.status.busy": "2025-08-22T12:31:11.338478Z",
     "iopub.status.idle": "2025-08-22T12:31:11.507557Z",
     "shell.execute_reply": "2025-08-22T12:31:11.506618Z"
    },
    "papermill": {
     "duration": 0.17454,
     "end_time": "2025-08-22T12:31:11.509082",
     "exception": false,
     "start_time": "2025-08-22T12:31:11.334542",
     "status": "completed"
    },
    "tags": []
   },
   "outputs": [
    {
     "data": {
      "text/html": [
       "<div>\n",
       "<style scoped>\n",
       "    .dataframe tbody tr th:only-of-type {\n",
       "        vertical-align: middle;\n",
       "    }\n",
       "\n",
       "    .dataframe tbody tr th {\n",
       "        vertical-align: top;\n",
       "    }\n",
       "\n",
       "    .dataframe thead th {\n",
       "        text-align: right;\n",
       "    }\n",
       "</style>\n",
       "<table border=\"1\" class=\"dataframe\">\n",
       "  <thead>\n",
       "    <tr style=\"text-align: right;\">\n",
       "      <th></th>\n",
       "      <th>age</th>\n",
       "      <th>sex</th>\n",
       "      <th>cp</th>\n",
       "      <th>trestbps</th>\n",
       "      <th>chol</th>\n",
       "      <th>fbs</th>\n",
       "      <th>restecg</th>\n",
       "      <th>thalach</th>\n",
       "      <th>exang</th>\n",
       "      <th>oldpeak</th>\n",
       "      <th>slope</th>\n",
       "      <th>ca</th>\n",
       "      <th>thal</th>\n",
       "      <th>target</th>\n",
       "    </tr>\n",
       "  </thead>\n",
       "  <tbody>\n",
       "    <tr>\n",
       "      <th>0</th>\n",
       "      <td>63</td>\n",
       "      <td>1</td>\n",
       "      <td>3</td>\n",
       "      <td>145</td>\n",
       "      <td>233</td>\n",
       "      <td>1</td>\n",
       "      <td>0</td>\n",
       "      <td>150</td>\n",
       "      <td>0</td>\n",
       "      <td>2.3</td>\n",
       "      <td>0</td>\n",
       "      <td>0</td>\n",
       "      <td>1</td>\n",
       "      <td>1</td>\n",
       "    </tr>\n",
       "    <tr>\n",
       "      <th>1</th>\n",
       "      <td>37</td>\n",
       "      <td>1</td>\n",
       "      <td>2</td>\n",
       "      <td>130</td>\n",
       "      <td>250</td>\n",
       "      <td>0</td>\n",
       "      <td>1</td>\n",
       "      <td>187</td>\n",
       "      <td>0</td>\n",
       "      <td>3.5</td>\n",
       "      <td>0</td>\n",
       "      <td>0</td>\n",
       "      <td>2</td>\n",
       "      <td>1</td>\n",
       "    </tr>\n",
       "    <tr>\n",
       "      <th>2</th>\n",
       "      <td>41</td>\n",
       "      <td>0</td>\n",
       "      <td>1</td>\n",
       "      <td>130</td>\n",
       "      <td>204</td>\n",
       "      <td>0</td>\n",
       "      <td>0</td>\n",
       "      <td>172</td>\n",
       "      <td>0</td>\n",
       "      <td>1.4</td>\n",
       "      <td>2</td>\n",
       "      <td>0</td>\n",
       "      <td>2</td>\n",
       "      <td>1</td>\n",
       "    </tr>\n",
       "    <tr>\n",
       "      <th>3</th>\n",
       "      <td>56</td>\n",
       "      <td>1</td>\n",
       "      <td>1</td>\n",
       "      <td>120</td>\n",
       "      <td>236</td>\n",
       "      <td>0</td>\n",
       "      <td>1</td>\n",
       "      <td>178</td>\n",
       "      <td>0</td>\n",
       "      <td>0.8</td>\n",
       "      <td>2</td>\n",
       "      <td>0</td>\n",
       "      <td>2</td>\n",
       "      <td>1</td>\n",
       "    </tr>\n",
       "    <tr>\n",
       "      <th>4</th>\n",
       "      <td>57</td>\n",
       "      <td>0</td>\n",
       "      <td>0</td>\n",
       "      <td>120</td>\n",
       "      <td>354</td>\n",
       "      <td>0</td>\n",
       "      <td>1</td>\n",
       "      <td>163</td>\n",
       "      <td>1</td>\n",
       "      <td>0.6</td>\n",
       "      <td>2</td>\n",
       "      <td>0</td>\n",
       "      <td>2</td>\n",
       "      <td>1</td>\n",
       "    </tr>\n",
       "  </tbody>\n",
       "</table>\n",
       "</div>"
      ],
      "text/plain": [
       "   age  sex  cp  trestbps  chol  fbs  restecg  thalach  exang  oldpeak  slope  \\\n",
       "0   63    1   3       145   233    1        0      150      0      2.3      0   \n",
       "1   37    1   2       130   250    0        1      187      0      3.5      0   \n",
       "2   41    0   1       130   204    0        0      172      0      1.4      2   \n",
       "3   56    1   1       120   236    0        1      178      0      0.8      2   \n",
       "4   57    0   0       120   354    0        1      163      1      0.6      2   \n",
       "\n",
       "   ca  thal  target  \n",
       "0   0     1       1  \n",
       "1   0     2       1  \n",
       "2   0     2       1  \n",
       "3   0     2       1  \n",
       "4   0     2       1  "
      ]
     },
     "execution_count": 2,
     "metadata": {},
     "output_type": "execute_result"
    }
   ],
   "source": [
    "heart_disease = pd.read_csv(\"https://raw.githubusercontent.com/mrdbourke/zero-to-mastery-ml/master/data/heart-disease.csv\") # load directly from URL (source: https://github.com/mrdbourke/zero-to-mastery-ml/blob/master/data/heart-disease.csv)\n",
    "heart_disease.head()"
   ]
  },
  {
   "cell_type": "code",
   "execution_count": 3,
   "id": "7a1d9f7c",
   "metadata": {
    "execution": {
     "iopub.execute_input": "2025-08-22T12:31:11.516656Z",
     "iopub.status.busy": "2025-08-22T12:31:11.516353Z",
     "iopub.status.idle": "2025-08-22T12:31:13.790552Z",
     "shell.execute_reply": "2025-08-22T12:31:13.789671Z"
    },
    "papermill": {
     "duration": 2.280184,
     "end_time": "2025-08-22T12:31:13.792343",
     "exception": false,
     "start_time": "2025-08-22T12:31:11.512159",
     "status": "completed"
    },
    "tags": []
   },
   "outputs": [],
   "source": [
    "\n",
    "# Import cross_val_score from the model_selection module\n",
    "from sklearn.model_selection import cross_val_score,train_test_split\n",
    "\n",
    "# Import the RandomForestClassifier model class from the ensemble module\n",
    "from sklearn.ensemble import RandomForestClassifier\n",
    "\n",
    "# Setup random seed\n",
    "np.random.seed(42)\n",
    "\n",
    "# Split the data into X (features/data) and y (target/labels)\n",
    "X = heart_disease.drop(\"target\", axis=1)\n",
    "y = heart_disease[\"target\"]\n",
    "\n",
    "# Split into train and test sets\n",
    "X_train, X_test, y_train, y_test = train_test_split(X, y, test_size=0.2)\n",
    "\n",
    "# Instantiate the model (on the training set)\n",
    "clf = RandomForestClassifier(n_estimators=100)\n",
    "\n",
    "# Call the fit method on the model and pass it training data\n",
    "clf.fit(X_train, y_train);\n"
   ]
  },
  {
   "cell_type": "code",
   "execution_count": 4,
   "id": "6e2d58ea",
   "metadata": {
    "execution": {
     "iopub.execute_input": "2025-08-22T12:31:13.799694Z",
     "iopub.status.busy": "2025-08-22T12:31:13.799256Z",
     "iopub.status.idle": "2025-08-22T12:31:13.819284Z",
     "shell.execute_reply": "2025-08-22T12:31:13.818295Z"
    },
    "papermill": {
     "duration": 0.025497,
     "end_time": "2025-08-22T12:31:13.820874",
     "exception": false,
     "start_time": "2025-08-22T12:31:13.795377",
     "status": "completed"
    },
    "tags": []
   },
   "outputs": [
    {
     "data": {
      "text/plain": [
       "0.8524590163934426"
      ]
     },
     "execution_count": 4,
     "metadata": {},
     "output_type": "execute_result"
    }
   ],
   "source": [
    "clf.score(X_test,y_test)"
   ]
  },
  {
   "cell_type": "markdown",
   "id": "9ddfa9e9",
   "metadata": {
    "papermill": {
     "duration": 0.0027,
     "end_time": "2025-08-22T12:31:13.826618",
     "exception": false,
     "start_time": "2025-08-22T12:31:13.823918",
     "status": "completed"
    },
    "tags": []
   },
   "source": [
    "## Using pickle module"
   ]
  },
  {
   "cell_type": "code",
   "execution_count": 5,
   "id": "dfb07bf6",
   "metadata": {
    "execution": {
     "iopub.execute_input": "2025-08-22T12:31:13.833480Z",
     "iopub.status.busy": "2025-08-22T12:31:13.833131Z",
     "iopub.status.idle": "2025-08-22T12:31:13.843637Z",
     "shell.execute_reply": "2025-08-22T12:31:13.842698Z"
    },
    "papermill": {
     "duration": 0.015876,
     "end_time": "2025-08-22T12:31:13.845298",
     "exception": false,
     "start_time": "2025-08-22T12:31:13.829422",
     "status": "completed"
    },
    "tags": []
   },
   "outputs": [],
   "source": [
    "import pickle\n",
    "pickle.dump(clf, open(\"/kaggle/working/randomForestClassifier.pkl\", 'wb'))"
   ]
  },
  {
   "cell_type": "code",
   "execution_count": 6,
   "id": "8096fff8",
   "metadata": {
    "execution": {
     "iopub.execute_input": "2025-08-22T12:31:13.852495Z",
     "iopub.status.busy": "2025-08-22T12:31:13.852149Z",
     "iopub.status.idle": "2025-08-22T12:31:13.861985Z",
     "shell.execute_reply": "2025-08-22T12:31:13.861239Z"
    },
    "papermill": {
     "duration": 0.015253,
     "end_time": "2025-08-22T12:31:13.863643",
     "exception": false,
     "start_time": "2025-08-22T12:31:13.848390",
     "status": "completed"
    },
    "tags": []
   },
   "outputs": [],
   "source": [
    "clf_loaded = pickle.load(open(\"/kaggle/working/randomForestClassifier.pkl\", 'rb'))"
   ]
  },
  {
   "cell_type": "code",
   "execution_count": 7,
   "id": "18cc6e5d",
   "metadata": {
    "execution": {
     "iopub.execute_input": "2025-08-22T12:31:13.871531Z",
     "iopub.status.busy": "2025-08-22T12:31:13.871187Z",
     "iopub.status.idle": "2025-08-22T12:31:13.887342Z",
     "shell.execute_reply": "2025-08-22T12:31:13.886377Z"
    },
    "papermill": {
     "duration": 0.021779,
     "end_time": "2025-08-22T12:31:13.888891",
     "exception": false,
     "start_time": "2025-08-22T12:31:13.867112",
     "status": "completed"
    },
    "tags": []
   },
   "outputs": [
    {
     "data": {
      "text/plain": [
       "0.8524590163934426"
      ]
     },
     "execution_count": 7,
     "metadata": {},
     "output_type": "execute_result"
    }
   ],
   "source": [
    "clf_loaded.score(X_test,y_test)"
   ]
  },
  {
   "cell_type": "markdown",
   "id": "f1a504c9",
   "metadata": {
    "papermill": {
     "duration": 0.002863,
     "end_time": "2025-08-22T12:31:13.895375",
     "exception": false,
     "start_time": "2025-08-22T12:31:13.892512",
     "status": "completed"
    },
    "tags": []
   },
   "source": [
    "## Using Joblib"
   ]
  },
  {
   "cell_type": "code",
   "execution_count": 8,
   "id": "36b582ca",
   "metadata": {
    "execution": {
     "iopub.execute_input": "2025-08-22T12:31:13.902480Z",
     "iopub.status.busy": "2025-08-22T12:31:13.902159Z",
     "iopub.status.idle": "2025-08-22T12:31:13.941296Z",
     "shell.execute_reply": "2025-08-22T12:31:13.940269Z"
    },
    "papermill": {
     "duration": 0.044745,
     "end_time": "2025-08-22T12:31:13.943088",
     "exception": false,
     "start_time": "2025-08-22T12:31:13.898343",
     "status": "completed"
    },
    "tags": []
   },
   "outputs": [],
   "source": [
    "from joblib import dump,load\n",
    "\n",
    "from joblib import dump, load\n",
    "\n",
    "dump(clf, open(\"/kaggle/working/randomForestClassifier.joblib\", 'wb'))\n"
   ]
  },
  {
   "cell_type": "code",
   "execution_count": 9,
   "id": "580c6cab",
   "metadata": {
    "execution": {
     "iopub.execute_input": "2025-08-22T12:31:13.950482Z",
     "iopub.status.busy": "2025-08-22T12:31:13.950165Z",
     "iopub.status.idle": "2025-08-22T12:31:13.983033Z",
     "shell.execute_reply": "2025-08-22T12:31:13.982227Z"
    },
    "papermill": {
     "duration": 0.038428,
     "end_time": "2025-08-22T12:31:13.984683",
     "exception": false,
     "start_time": "2025-08-22T12:31:13.946255",
     "status": "completed"
    },
    "tags": []
   },
   "outputs": [],
   "source": [
    "clf_loaded_joblib = load(open(\"/kaggle/working/randomForestClassifier.joblib\", 'rb'))"
   ]
  },
  {
   "cell_type": "code",
   "execution_count": 10,
   "id": "41522ee4",
   "metadata": {
    "execution": {
     "iopub.execute_input": "2025-08-22T12:31:13.991975Z",
     "iopub.status.busy": "2025-08-22T12:31:13.991641Z",
     "iopub.status.idle": "2025-08-22T12:31:14.009002Z",
     "shell.execute_reply": "2025-08-22T12:31:14.008110Z"
    },
    "papermill": {
     "duration": 0.02266,
     "end_time": "2025-08-22T12:31:14.010556",
     "exception": false,
     "start_time": "2025-08-22T12:31:13.987896",
     "status": "completed"
    },
    "tags": []
   },
   "outputs": [
    {
     "data": {
      "text/plain": [
       "0.8524590163934426"
      ]
     },
     "execution_count": 10,
     "metadata": {},
     "output_type": "execute_result"
    }
   ],
   "source": [
    "clf_loaded_joblib.score(X_test,y_test)"
   ]
  }
 ],
 "metadata": {
  "kaggle": {
   "accelerator": "none",
   "dataSources": [],
   "dockerImageVersionId": 31040,
   "isGpuEnabled": false,
   "isInternetEnabled": true,
   "language": "python",
   "sourceType": "notebook"
  },
  "kernelspec": {
   "display_name": "Python 3",
   "language": "python",
   "name": "python3"
  },
  "language_info": {
   "codemirror_mode": {
    "name": "ipython",
    "version": 3
   },
   "file_extension": ".py",
   "mimetype": "text/x-python",
   "name": "python",
   "nbconvert_exporter": "python",
   "pygments_lexer": "ipython3",
   "version": "3.11.11"
  },
  "papermill": {
   "default_parameters": {},
   "duration": 11.047793,
   "end_time": "2025-08-22T12:31:14.734188",
   "environment_variables": {},
   "exception": null,
   "input_path": "__notebook__.ipynb",
   "output_path": "__notebook__.ipynb",
   "parameters": {},
   "start_time": "2025-08-22T12:31:03.686395",
   "version": "2.6.0"
  }
 },
 "nbformat": 4,
 "nbformat_minor": 5
}
